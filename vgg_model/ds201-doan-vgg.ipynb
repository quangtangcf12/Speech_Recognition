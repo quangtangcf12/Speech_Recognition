{
 "cells": [
  {
   "cell_type": "markdown",
   "metadata": {},
   "source": [
    "# **Import thư viện**"
   ]
  },
  {
   "cell_type": "code",
   "execution_count": 1,
   "metadata": {
    "_cell_guid": "b1076dfc-b9ad-4769-8c92-a6c4dae69d19",
    "_uuid": "8f2839f25d086af736a60e9eeb907d3b93b6e0e5",
    "execution": {
     "iopub.execute_input": "2024-12-31T02:43:12.673935Z",
     "iopub.status.busy": "2024-12-31T02:43:12.673587Z",
     "iopub.status.idle": "2024-12-31T02:43:21.159882Z",
     "shell.execute_reply": "2024-12-31T02:43:21.159176Z",
     "shell.execute_reply.started": "2024-12-31T02:43:12.673908Z"
    },
    "papermill": {
     "duration": 7.421986,
     "end_time": "2023-07-01T21:58:18.631707",
     "exception": false,
     "start_time": "2023-07-01T21:58:11.209721",
     "status": "completed"
    },
    "tags": [],
    "trusted": true
   },
   "outputs": [],
   "source": [
    "import pandas as pd\n",
    "import numpy as np\n",
    "\n",
    "import os\n",
    "import sys\n",
    "\n",
    "# librosa is a Python library for analyzing audio and music. It can be used to extract the data from the audio files we will see it later.\n",
    "import librosa\n",
    "import librosa.display\n",
    "import seaborn as sns\n",
    "import matplotlib.pyplot as plt\n",
    "\n",
    "from sklearn.preprocessing import StandardScaler, OneHotEncoder\n",
    "from sklearn.metrics import confusion_matrix, classification_report\n",
    "from sklearn.model_selection import train_test_split\n",
    "\n",
    "# to play the audio files\n",
    "import IPython.display as ipd\n",
    "from IPython.display import Audio\n",
    "import keras\n",
    "from keras.preprocessing import sequence\n",
    "from keras.models import Sequential\n",
    "from keras.layers import Dense, Embedding\n",
    "from keras.layers import LSTM,BatchNormalization , GRU\n",
    "from tensorflow.keras.preprocessing.text import Tokenizer\n",
    "from keras.preprocessing.sequence import pad_sequences\n",
    "from tensorflow.keras.utils import to_categorical\n",
    "from keras.layers import Input, Flatten, Dropout, Activation\n",
    "from keras.layers import Conv1D, MaxPooling1D, AveragePooling1D\n",
    "from keras.models import Model\n",
    "from keras.callbacks import ModelCheckpoint\n",
    "from tensorflow.keras.optimizers import SGD\n",
    "import tensorflow as tf"
   ]
  },
  {
   "cell_type": "markdown",
   "metadata": {
    "papermill": {
     "duration": 0.039096,
     "end_time": "2023-07-01T21:58:26.065762",
     "exception": false,
     "start_time": "2023-07-01T21:58:26.026666",
     "status": "completed"
    },
    "tags": []
   },
   "source": [
    "# Importing Data "
   ]
  },
  {
   "cell_type": "code",
   "execution_count": null,
   "metadata": {
    "execution": {
     "iopub.execute_input": "2024-12-29T08:10:16.577167Z",
     "iopub.status.busy": "2024-12-29T08:10:16.576910Z",
     "iopub.status.idle": "2024-12-29T08:10:16.615901Z",
     "shell.execute_reply": "2024-12-29T08:10:16.615162Z",
     "shell.execute_reply.started": "2024-12-29T08:10:16.577147Z"
    },
    "papermill": {
     "duration": 0.049027,
     "end_time": "2023-07-01T21:58:26.327212",
     "exception": false,
     "start_time": "2023-07-01T21:58:26.278185",
     "status": "completed"
    },
    "tags": [],
    "trusted": true
   },
   "outputs": [],
   "source": [
    "Crema = \"/kaggle/input/cremad/AudioWAV/\"\n",
    "Tess = \"/kaggle/input/toronto-emotional-speech-set-tess/TESS Toronto emotional speech set data/\"\n",
    "Savee = \"/kaggle/input/surrey-audiovisual-expressed-emotion-savee/ALL/\""
   ]
  },
  {
   "cell_type": "markdown",
   "metadata": {
    "papermill": {
     "duration": 0.038859,
     "end_time": "2023-07-01T21:58:26.404767",
     "exception": false,
     "start_time": "2023-07-01T21:58:26.365908",
     "status": "completed"
    },
    "tags": []
   },
   "source": [
    "# Tiền xử lý"
   ]
  },
  {
   "cell_type": "markdown",
   "metadata": {
    "papermill": {
     "duration": 0.028091,
     "end_time": "2023-07-01T21:58:27.159176",
     "exception": false,
     "start_time": "2023-07-01T21:58:27.131085",
     "status": "completed"
    },
    "tags": []
   },
   "source": [
    "**Crema DataFrame**"
   ]
  },
  {
   "cell_type": "markdown",
   "metadata": {
    "papermill": {
     "duration": 0.028413,
     "end_time": "2023-07-01T21:58:27.215938",
     "exception": false,
     "start_time": "2023-07-01T21:58:27.187525",
     "status": "completed"
    },
    "tags": []
   },
   "source": [
    "CREMA-D là một tập dữ liệu gồm 7.442 đoạn clip gốc từ 91 diễn viên. Các đoạn clip này được thực hiện bởi 48 diễn viên nam và 43 diễn viên nữ, trong độ tuổi từ 20 đến 74, thuộc nhiều chủng tộc và sắc tộc khác nhau (gồm người gốc Phi, châu Á, da trắng, người gốc Tây Ban Nha và không xác định). Các diễn viên phát âm từ một tập hợp gồm 12 câu. Những câu này được thể hiện với một trong sáu trạng thái cảm xúc khác nhau (Giận dữ, Ghê tởm, Sợ hãi, Vui vẻ, Bình thản và Buồn bã) và ở bốn cấp độ cảm xúc khác nhau (Thấp, Trung bình, Cao và Không xác định)."
   ]
  },
  {
   "cell_type": "code",
   "execution_count": null,
   "metadata": {
    "execution": {
     "iopub.execute_input": "2024-12-29T08:10:16.617302Z",
     "iopub.status.busy": "2024-12-29T08:10:16.617050Z",
     "iopub.status.idle": "2024-12-29T08:10:16.705662Z",
     "shell.execute_reply": "2024-12-29T08:10:16.704824Z",
     "shell.execute_reply.started": "2024-12-29T08:10:16.617261Z"
    },
    "papermill": {
     "duration": 0.384579,
     "end_time": "2023-07-01T21:58:27.628914",
     "exception": false,
     "start_time": "2023-07-01T21:58:27.244335",
     "status": "completed"
    },
    "tags": [],
    "trusted": true
   },
   "outputs": [],
   "source": [
    "# Liệt kê tất cả các tệp trong thư mục\n",
    "crema_directory_list = os.listdir(Crema)\n",
    "\n",
    "# Khởi tạo danh sách lưu cảm xúc và đường dẫn tệp\n",
    "file_emotion = []\n",
    "file_path = []\n",
    "\n",
    "# Ánh xạ nhãn cảm xúc\n",
    "emotion_map = {\n",
    "    'SAD': 'sad',\n",
    "    'ANG': 'angry',\n",
    "    'DIS': 'disgust',\n",
    "    'FEA': 'fear',\n",
    "    'HAP': 'happy',\n",
    "    'NEU': 'neutral',\n",
    "    'SUR': 'surprise'  # Giả định 'SUR' là nhãn cho cảm xúc ngạc nhiên\n",
    "}\n",
    "\n",
    "for file in crema_directory_list:\n",
    "    # Lưu đường dẫn của tệp\n",
    "    file_path.append(os.path.join(Crema, file))\n",
    "    # Trích xuất nhãn cảm xúc từ tên tệp\n",
    "    part = file.split('_')\n",
    "    emotion = emotion_map.get(part[2], 'Unknown')\n",
    "    file_emotion.append(emotion)\n",
    "\n",
    "# Tạo DataFrame chứa cảm xúc\n",
    "emotion_df = pd.DataFrame(file_emotion, columns=['Emotions'])\n",
    "\n",
    "# Tạo DataFrame chứa đường dẫn\n",
    "path_df = pd.DataFrame(file_path, columns=['Path'])\n",
    "\n",
    "# Kết hợp hai DataFrame\n",
    "Crema_df = pd.concat([emotion_df, path_df], axis=1)\n",
    "\n",
    "# Hiển thị các hàng đầu tiên\n",
    "print(Crema_df.head())\n",
    "\n",
    "# Đếm số lượng mỗi loại cảm xúc\n",
    "print(Crema_df.Emotions.value_counts())"
   ]
  },
  {
   "cell_type": "markdown",
   "metadata": {
    "papermill": {
     "duration": 0.02909,
     "end_time": "2023-07-01T21:58:27.686675",
     "exception": false,
     "start_time": "2023-07-01T21:58:27.657585",
     "status": "completed"
    },
    "tags": []
   },
   "source": [
    "**TESS dataset**"
   ]
  },
  {
   "cell_type": "markdown",
   "metadata": {
    "papermill": {
     "duration": 0.028422,
     "end_time": "2023-07-01T21:58:27.744651",
     "exception": false,
     "start_time": "2023-07-01T21:58:27.716229",
     "status": "completed"
    },
    "tags": []
   },
   "source": [
    "Có một tập hợp gồm 200 từ mục tiêu được phát âm trong cụm từ mẫu \"Say the word _\" bởi hai nữ diễn viên (26 và 64 tuổi). Các bản ghi âm của tập hợp này được thực hiện với bảy trạng thái cảm xúc khác nhau (giận dữ, ghê tởm, sợ hãi, hạnh phúc, ngạc nhiên, buồn bã và trung lập). Tổng cộng có 2800 điểm dữ liệu (tệp âm thanh).\n",
    "\n",
    "Tập dữ liệu được tổ chức sao cho mỗi diễn viên nữ và các cảm xúc của họ được chứa trong một thư mục riêng. Bên trong thư mục đó, có thể tìm thấy tất cả 200 tệp âm thanh của các từ mục tiêu. Định dạng của tệp âm thanh là WAV."
   ]
  },
  {
   "cell_type": "code",
   "execution_count": null,
   "metadata": {
    "execution": {
     "iopub.execute_input": "2024-12-29T08:10:16.706963Z",
     "iopub.status.busy": "2024-12-29T08:10:16.706609Z",
     "iopub.status.idle": "2024-12-29T08:10:16.828221Z",
     "shell.execute_reply": "2024-12-29T08:10:16.827473Z",
     "shell.execute_reply.started": "2024-12-29T08:10:16.706931Z"
    },
    "papermill": {
     "duration": 0.782822,
     "end_time": "2023-07-01T21:58:28.556406",
     "exception": false,
     "start_time": "2023-07-01T21:58:27.773584",
     "status": "completed"
    },
    "tags": [],
    "trusted": true
   },
   "outputs": [],
   "source": [
    "tess_directory_list = os.listdir(Tess)\n",
    "\n",
    "file_emotion = []\n",
    "file_path = []\n",
    "\n",
    "for dir in tess_directory_list:\n",
    "    directories = os.listdir(os.path.join(Tess, dir))\n",
    "    for file in directories:\n",
    "        parts = file.split('.')[0].split('_')\n",
    "        if len(parts) < 3:\n",
    "            continue\n",
    "        part = parts[2]\n",
    "        if part == 'ps':\n",
    "            file_emotion.append('surprise')\n",
    "        else:\n",
    "            file_emotion.append(part)\n",
    "        file_path.append(Tess + dir + '/' + file)\n",
    "        \n",
    "# Tạo DataFrame cho cảm xúc và đường dẫn:\n",
    "emotion_df = pd.DataFrame(file_emotion, columns=['Emotions'])\n",
    "\n",
    "path_df = pd.DataFrame(file_path, columns=['Path'])\n",
    "Tess_df = pd.concat([emotion_df, path_df], axis=1)\n",
    "Tess_df.head()\n",
    "print(Tess_df.Emotions.value_counts())\n"
   ]
  },
  {
   "cell_type": "markdown",
   "metadata": {
    "papermill": {
     "duration": 0.030963,
     "end_time": "2023-07-01T21:58:28.616889",
     "exception": false,
     "start_time": "2023-07-01T21:58:28.585926",
     "status": "completed"
    },
    "tags": []
   },
   "source": [
    "**SAVEE Dataset**"
   ]
  },
  {
   "cell_type": "markdown",
   "metadata": {
    "papermill": {
     "duration": 0.028353,
     "end_time": "2023-07-01T21:58:28.673755",
     "exception": false,
     "start_time": "2023-07-01T21:58:28.645402",
     "status": "completed"
    },
    "tags": []
   },
   "source": [
    "**Ngữ cảnh**\n",
    "Cơ sở dữ liệu SAVEE được thu âm từ bốn người đàn ông bản xứ nói tiếng Anh (được nhận diện là DC, JE, JK, KL), là sinh viên sau đại học và nhà nghiên cứu tại Đại học Surrey, trong độ tuổi từ 27 đến 31. Cảm xúc được mô tả theo các danh mục tâm lý riêng biệt: giận dữ, ghê tởm, sợ hãi, hạnh phúc, buồn bã và ngạc nhiên. Chúng tôi đã thêm cảm xúc trung lập để cung cấp các bản ghi âm của 7 loại cảm xúc. Nội dung văn bản bao gồm 15 câu từ tập TIMIT cho mỗi cảm xúc: 3 câu chung, 2 câu đặc trưng cho cảm xúc và 10 câu chung chung khác nhau cho từng cảm xúc và được cân bằng về mặt ngữ âm. Ba câu chung và 2 × 6 = 12 câu đặc trưng cảm xúc được ghi âm dưới dạng trung lập để tạo thành 30 câu trung lập.\n",
    "\n",
    "Nội dung\n",
    "Điều này dẫn đến tổng cộng 120 câu nói cho mỗi người nói, ví dụ:\n",
    "\n",
    "- Common: She had your dark suit in greasy wash water all year.\n",
    "- Anger: Who authorized the unlimited expense account?\n",
    "- Disgust: Please take this dirty table cloth to the cleaners for me.\n",
    "- Fear: Call an ambulance for medical assistance.\n",
    "- Happiness: Those musicians harmonize marvelously.\n",
    "- Sadness: The prospect of cutting back spending is an unpleasant one for any governor.\n",
    "- Surprise: The carpet cleaners shampooed our oriental rug.\n",
    "- Neutral: The best way to learn is to solve extra problems."
   ]
  },
  {
   "cell_type": "code",
   "execution_count": null,
   "metadata": {
    "execution": {
     "iopub.execute_input": "2024-12-29T08:10:16.829289Z",
     "iopub.status.busy": "2024-12-29T08:10:16.829048Z",
     "iopub.status.idle": "2024-12-29T08:10:16.849195Z",
     "shell.execute_reply": "2024-12-29T08:10:16.848537Z",
     "shell.execute_reply.started": "2024-12-29T08:10:16.829259Z"
    },
    "papermill": {
     "duration": 0.167293,
     "end_time": "2023-07-01T21:58:28.869797",
     "exception": false,
     "start_time": "2023-07-01T21:58:28.702504",
     "status": "completed"
    },
    "tags": [],
    "trusted": true
   },
   "outputs": [],
   "source": [
    "savee_directory_list = os.listdir(Savee)\n",
    "\n",
    "file_emotion = []\n",
    "file_path = []\n",
    "\n",
    "# Ánh xạ nhãn cảm xúc\n",
    "emotion_map = {\n",
    "    'a': 'angry',\n",
    "    'd': 'disgust',\n",
    "    'f': 'fear',\n",
    "    'h': 'happy',\n",
    "    'n': 'neutral',\n",
    "    'sa': 'sad',\n",
    "    'su': 'surprise'  # Giả định 'su' là nhãn cho cảm xúc ngạc nhiên\n",
    "}\n",
    "\n",
    "for file in savee_directory_list:\n",
    "    file_path.append(os.path.join(Savee, file))\n",
    "    part = file.split('_')[1]\n",
    "    ele = part[:-6]\n",
    "    emotion = emotion_map.get(ele, 'Unknown')\n",
    "    file_emotion.append(emotion)\n",
    "\n",
    "# Tạo DataFrame chứa cảm xúc\n",
    "emotion_df = pd.DataFrame(file_emotion, columns=['Emotions'])\n",
    "\n",
    "# Tạo DataFrame đường dẫn\n",
    "path_df = pd.DataFrame(file_path, columns=['Path'])\n",
    "\n",
    "# Kết hợp hai DataFrame\n",
    "Savee_df = pd.concat([emotion_df, path_df], axis=1)\n",
    "\n",
    "print(Savee_df.head())\n",
    "\n",
    "print(Savee_df.Emotions.value_counts())"
   ]
  },
  {
   "cell_type": "markdown",
   "metadata": {
    "papermill": {
     "duration": 0.028687,
     "end_time": "2023-07-01T21:58:28.927193",
     "exception": false,
     "start_time": "2023-07-01T21:58:28.898506",
     "status": "completed"
    },
    "tags": []
   },
   "source": [
    "# **Integration**"
   ]
  },
  {
   "cell_type": "code",
   "execution_count": null,
   "metadata": {
    "execution": {
     "iopub.execute_input": "2024-12-29T08:10:16.850235Z",
     "iopub.status.busy": "2024-12-29T08:10:16.850033Z",
     "iopub.status.idle": "2024-12-29T08:10:16.883937Z",
     "shell.execute_reply": "2024-12-29T08:10:16.883240Z",
     "shell.execute_reply.started": "2024-12-29T08:10:16.850217Z"
    },
    "papermill": {
     "duration": 0.104411,
     "end_time": "2023-07-01T21:58:29.060521",
     "exception": false,
     "start_time": "2023-07-01T21:58:28.956110",
     "status": "completed"
    },
    "tags": [],
    "trusted": true
   },
   "outputs": [],
   "source": [
    "# Tạo Dataframe bằng cách sử dụng tất cả 3 dataframe mà chúng tôi đã tạo cho đến nay.\n",
    "data_path = pd.concat([Crema_df, Tess_df, Savee_df], axis = 0)\n",
    "data_path.to_csv(\"data_path.csv\",index=False)\n",
    "data_path.head()"
   ]
  },
  {
   "cell_type": "code",
   "execution_count": null,
   "metadata": {
    "execution": {
     "iopub.execute_input": "2024-12-29T08:10:16.884826Z",
     "iopub.status.busy": "2024-12-29T08:10:16.884618Z",
     "iopub.status.idle": "2024-12-29T08:10:17.168552Z",
     "shell.execute_reply": "2024-12-29T08:10:17.167664Z",
     "shell.execute_reply.started": "2024-12-29T08:10:16.884809Z"
    },
    "papermill": {
     "duration": 0.04099,
     "end_time": "2023-07-01T21:58:29.130684",
     "exception": false,
     "start_time": "2023-07-01T21:58:29.089694",
     "status": "completed"
    },
    "tags": [],
    "trusted": true
   },
   "outputs": [],
   "source": [
    "import matplotlib.pyplot as plt\n",
    "import seaborn as sns\n",
    "\n",
    "# Set a modern style for the plot\n",
    "sns.set_theme(style=\"whitegrid\", palette=\"pastel\")\n",
    "\n",
    "# Create a larger figure for better visibility\n",
    "plt.figure(figsize=(10, 6))\n",
    "plt.title('Distribution of Emotions', fontsize=18, fontweight='bold', color='#333')\n",
    "\n",
    "# Plot the countplot with more customization\n",
    "ax = sns.countplot(\n",
    "    data=data_path, \n",
    "    x='Emotions', \n",
    "    palette='coolwarm', \n",
    "    order=data_path.Emotions.value_counts().index  # Order by frequency\n",
    ")\n",
    "\n",
    "# Annotate each bar with the count\n",
    "for p in ax.patches:\n",
    "    ax.annotate(\n",
    "        f\"{p.get_height()}\", \n",
    "        (p.get_x() + p.get_width() / 2., p.get_height()), \n",
    "        ha='center', \n",
    "        va='baseline', \n",
    "        fontsize=12, \n",
    "        color='black', \n",
    "        xytext=(0, 5), \n",
    "        textcoords='offset points'\n",
    "    )\n",
    "\n",
    "# Customize labels\n",
    "plt.ylabel('Count', fontsize=14, labelpad=10)\n",
    "plt.xlabel('Emotions', fontsize=14, labelpad=10)\n",
    "\n",
    "# Remove unnecessary spines for a cleaner look\n",
    "sns.despine()\n",
    "\n",
    "# Add a subtle grid for better readability\n",
    "plt.grid(axis='y', linestyle='--', alpha=0.7)\n",
    "\n",
    "# Show the plot\n",
    "plt.show()\n",
    "\n",
    "# Print the value counts for reference\n",
    "print(data_path.Emotions.value_counts())"
   ]
  },
  {
   "cell_type": "code",
   "execution_count": null,
   "metadata": {
    "execution": {
     "iopub.execute_input": "2024-12-29T08:10:17.171167Z",
     "iopub.status.busy": "2024-12-29T08:10:17.170946Z",
     "iopub.status.idle": "2024-12-29T08:10:29.052385Z",
     "shell.execute_reply": "2024-12-29T08:10:29.051671Z",
     "shell.execute_reply.started": "2024-12-29T08:10:17.171149Z"
    },
    "papermill": {
     "duration": 1.673693,
     "end_time": "2023-07-01T21:58:31.228269",
     "exception": false,
     "start_time": "2023-07-01T21:58:29.554576",
     "status": "completed"
    },
    "tags": [],
    "trusted": true
   },
   "outputs": [],
   "source": [
    "data,sr = librosa.load(file_path[0])\n",
    "sr"
   ]
  },
  {
   "cell_type": "markdown",
   "metadata": {},
   "source": [
    "- data: Mảng chứa tín hiệu âm thanh (dạng numpy array).\n",
    "- sr: Tần số lấy mẫu của âm thanh (mặc định 22050 Hz nếu không chỉ định khác)."
   ]
  },
  {
   "cell_type": "code",
   "execution_count": null,
   "metadata": {
    "execution": {
     "iopub.execute_input": "2024-12-29T08:10:29.054491Z",
     "iopub.status.busy": "2024-12-29T08:10:29.053988Z",
     "iopub.status.idle": "2024-12-29T08:10:29.058669Z",
     "shell.execute_reply": "2024-12-29T08:10:29.057821Z",
     "shell.execute_reply.started": "2024-12-29T08:10:29.054470Z"
    },
    "trusted": true
   },
   "outputs": [],
   "source": [
    "# In cái file path đầu tiên\n",
    "print(file_path[0])"
   ]
  },
  {
   "cell_type": "code",
   "execution_count": null,
   "metadata": {
    "execution": {
     "iopub.execute_input": "2024-12-29T08:10:29.059717Z",
     "iopub.status.busy": "2024-12-29T08:10:29.059427Z",
     "iopub.status.idle": "2024-12-29T08:10:29.085699Z",
     "shell.execute_reply": "2024-12-29T08:10:29.084902Z",
     "shell.execute_reply.started": "2024-12-29T08:10:29.059687Z"
    },
    "papermill": {
     "duration": 0.059365,
     "end_time": "2023-07-01T21:58:31.318773",
     "exception": false,
     "start_time": "2023-07-01T21:58:31.259408",
     "status": "completed"
    },
    "tags": [],
    "trusted": true
   },
   "outputs": [],
   "source": [
    "# Phát đoạn âm thanh data với tần số lấy mẫu sr\n",
    "ipd.Audio(data,rate=sr)"
   ]
  },
  {
   "cell_type": "markdown",
   "metadata": {},
   "source": [
    "- ipd.Audio: Hàm từ IPython.display dùng để phát âm thanh trong Jupyter Notebook.\n",
    "- data: Mảng chứa tín hiệu âm thanh.\n",
    "- rate=sr: Tần số lấy mẫu (sampling rate) của âm thanh."
   ]
  },
  {
   "cell_type": "code",
   "execution_count": null,
   "metadata": {
    "execution": {
     "iopub.execute_input": "2024-12-29T08:10:29.086685Z",
     "iopub.status.busy": "2024-12-29T08:10:29.086473Z",
     "iopub.status.idle": "2024-12-29T08:10:30.617536Z",
     "shell.execute_reply": "2024-12-29T08:10:30.616746Z",
     "shell.execute_reply.started": "2024-12-29T08:10:29.086666Z"
    },
    "papermill": {
     "duration": 0.428919,
     "end_time": "2023-07-01T21:58:31.780053",
     "exception": false,
     "start_time": "2023-07-01T21:58:31.351134",
     "status": "completed"
    },
    "tags": [],
    "trusted": true
   },
   "outputs": [],
   "source": [
    "# Hiển thị một Mel spectrogram của âm thanh với tần số và cường độ (dB) ở mỗi thời điểm.\n",
    "plt.figure(figsize=(10, 5))\n",
    "spectrogram = librosa.feature.melspectrogram(y=data, sr=sr, n_mels=128,fmax=8000) \n",
    "log_spectrogram = librosa.power_to_db(spectrogram)\n",
    "librosa.display.specshow(log_spectrogram, y_axis='mel', sr=sr, x_axis='time');\n",
    "plt.title('Mel Spectrogram ')\n",
    "plt.colorbar(format='%+2.0f dB')"
   ]
  },
  {
   "cell_type": "code",
   "execution_count": null,
   "metadata": {
    "execution": {
     "iopub.execute_input": "2024-12-29T08:10:30.618954Z",
     "iopub.status.busy": "2024-12-29T08:10:30.618389Z",
     "iopub.status.idle": "2024-12-29T08:10:31.055883Z",
     "shell.execute_reply": "2024-12-29T08:10:31.054943Z",
     "shell.execute_reply.started": "2024-12-29T08:10:30.618928Z"
    },
    "papermill": {
     "duration": 0.342563,
     "end_time": "2023-07-01T21:58:32.157210",
     "exception": false,
     "start_time": "2023-07-01T21:58:31.814647",
     "status": "completed"
    },
    "tags": [],
    "trusted": true
   },
   "outputs": [],
   "source": [
    "# Tính toán MFCC từ tín hiệu âm thanh data với tần số lấy mẫu sr.\n",
    "mfcc = librosa.feature.mfcc(y=data, sr=sr, n_mfcc=30)\n",
    "\n",
    "\n",
    "# MFCC\n",
    "plt.figure(figsize=(16, 10))\n",
    "plt.subplot(3,1,1)\n",
    "librosa.display.specshow(mfcc, x_axis='time')\n",
    "plt.ylabel('MFCC')\n",
    "plt.colorbar()\n",
    "\n",
    "ipd.Audio(data,rate=sr)"
   ]
  },
  {
   "cell_type": "markdown",
   "metadata": {
    "papermill": {
     "duration": 0.037215,
     "end_time": "2023-07-01T21:58:32.232499",
     "exception": false,
     "start_time": "2023-07-01T21:58:32.195284",
     "status": "completed"
    },
    "tags": []
   },
   "source": [
    "# Data Augmentation"
   ]
  },
  {
   "cell_type": "code",
   "execution_count": null,
   "metadata": {
    "execution": {
     "iopub.execute_input": "2024-12-29T08:10:31.057150Z",
     "iopub.status.busy": "2024-12-29T08:10:31.056747Z",
     "iopub.status.idle": "2024-12-29T08:10:31.063085Z",
     "shell.execute_reply": "2024-12-29T08:10:31.062150Z",
     "shell.execute_reply.started": "2024-12-29T08:10:31.057122Z"
    },
    "papermill": {
     "duration": 0.049409,
     "end_time": "2023-07-01T21:58:32.319205",
     "exception": false,
     "start_time": "2023-07-01T21:58:32.269796",
     "status": "completed"
    },
    "tags": [],
    "trusted": true
   },
   "outputs": [],
   "source": [
    "# NOISE\n",
    "def noise(data):\n",
    "    noise_amp = 0.035 * np.random.uniform() * np.amax(data)\n",
    "    data = data + noise_amp * np.random.normal(size=data.shape[0])\n",
    "    return data\n",
    "\n",
    "# STRETCH\n",
    "def stretch(data, rate=0.8):\n",
    "    # Ensure the audio is 1D\n",
    "    if data.ndim > 1:\n",
    "        data = data.flatten()\n",
    "    return librosa.effects.time_stretch(data, rate = rate)\n",
    "\n",
    "# SHIFT\n",
    "def shift(data):\n",
    "    shift_range = int(np.random.uniform(low=-5, high=5) * 1000)\n",
    "    return np.roll(data, shift_range)\n",
    "\n",
    "# PITCH\n",
    "def pitch(data, sampling_rate, pitch_factor=0.7):\n",
    "    return librosa.effects.pitch_shift(y =data, sr = sampling_rate, n_steps = pitch_factor)"
   ]
  },
  {
   "cell_type": "markdown",
   "metadata": {},
   "source": [
    "**noise(data):**\n",
    "\n",
    "- Mục đích: Thêm nhiễu ngẫu nhiên vào dữ liệu âm thanh.\n",
    "- Cách hoạt động:\n",
    "    Tạo một giá trị nhiễu ngẫu nhiên (noise_amp) theo tỷ lệ phần trăm với giá trị tối đa của âm thanh (np.amax(data)).\n",
    "    Thêm nhiễu vào dữ liệu âm thanh ban đầu bằng cách cộng thêm nhiễu Gaussian được tạo ra bởi np.random.normal().\n",
    "  \n",
    "**stretch(data, rate=0.8):**\n",
    "\n",
    "- Mục đích: Thực hiện thay đổi tốc độ (thời gian kéo dài hoặc rút ngắn) của âm thanh mà không thay đổi cao độ.\n",
    "- Cách hoạt động:\n",
    "    Nếu dữ liệu âm thanh có nhiều hơn một chiều (âm thanh stereo), nó sẽ chuyển thành một mảng 1D bằng cách gọi flatten().\n",
    "    Sử dụng librosa.effects.time_stretch() để thay đổi thời gian âm thanh theo tỉ lệ rate.\n",
    "  \n",
    "**shift(data):**\n",
    "\n",
    "- Mục đích: Dịch chuyển tín hiệu âm thanh theo thời gian.\n",
    "- Cách hoạt động:\n",
    "    Tạo một giá trị dịch chuyển ngẫu nhiên (shift_range) trong khoảng từ -5000 đến 5000 mẫu.\n",
    "    Dịch chuyển mảng dữ liệu âm thanh sử dụng np.roll(), giúp làm thay đổi vị trí của các mẫu âm thanh.\n",
    "  \n",
    "**pitch(data, sampling_rate, pitch_factor=0.7):**\n",
    "\n",
    "- Mục đích: Thay đổi cao độ (pitch) của âm thanh.\n",
    "- Cách hoạt động:\n",
    "    Sử dụng librosa.effects.pitch_shift() để thay đổi cao độ âm thanh.\n",
    "    n_steps được xác định bởi pitch_factor, điều chỉnh cao độ theo tỷ lệ (giảm hoặc tăng cao độ)."
   ]
  },
  {
   "cell_type": "code",
   "execution_count": null,
   "metadata": {
    "execution": {
     "iopub.execute_input": "2024-12-29T08:10:31.064231Z",
     "iopub.status.busy": "2024-12-29T08:10:31.063946Z",
     "iopub.status.idle": "2024-12-29T08:10:31.744599Z",
     "shell.execute_reply": "2024-12-29T08:10:31.743669Z",
     "shell.execute_reply.started": "2024-12-29T08:10:31.064209Z"
    },
    "papermill": {
     "duration": 0.458052,
     "end_time": "2023-07-01T21:58:32.814399",
     "exception": false,
     "start_time": "2023-07-01T21:58:32.356347",
     "status": "completed"
    },
    "tags": [],
    "trusted": true
   },
   "outputs": [],
   "source": [
    "# NORMAL AUDIO\n",
    "import librosa.display\n",
    "plt.figure(figsize=(12, 5))\n",
    "librosa.display.waveshow(y=data, sr=sr)\n",
    "ipd.Audio(data,rate=sr)"
   ]
  },
  {
   "cell_type": "code",
   "execution_count": null,
   "metadata": {
    "execution": {
     "iopub.execute_input": "2024-12-29T08:10:31.745906Z",
     "iopub.status.busy": "2024-12-29T08:10:31.745554Z",
     "iopub.status.idle": "2024-12-29T08:10:32.434132Z",
     "shell.execute_reply": "2024-12-29T08:10:32.433313Z",
     "shell.execute_reply.started": "2024-12-29T08:10:31.745867Z"
    },
    "papermill": {
     "duration": 0.477332,
     "end_time": "2023-07-01T21:58:33.333535",
     "exception": false,
     "start_time": "2023-07-01T21:58:32.856203",
     "status": "completed"
    },
    "tags": [],
    "trusted": true
   },
   "outputs": [],
   "source": [
    "# AUDIO WITH NOISE\n",
    "x = noise(data)\n",
    "plt.figure(figsize=(12,5))\n",
    "librosa.display.waveshow(y=x, sr=sr)\n",
    "ipd.Audio(x, rate=sr)"
   ]
  },
  {
   "cell_type": "code",
   "execution_count": null,
   "metadata": {
    "execution": {
     "iopub.execute_input": "2024-12-29T08:10:32.435232Z",
     "iopub.status.busy": "2024-12-29T08:10:32.434938Z",
     "iopub.status.idle": "2024-12-29T08:10:33.899436Z",
     "shell.execute_reply": "2024-12-29T08:10:33.898527Z",
     "shell.execute_reply.started": "2024-12-29T08:10:32.435199Z"
    },
    "papermill": {
     "duration": 0.935507,
     "end_time": "2023-07-01T21:58:34.314143",
     "exception": false,
     "start_time": "2023-07-01T21:58:33.378636",
     "status": "completed"
    },
    "tags": [],
    "trusted": true
   },
   "outputs": [],
   "source": [
    "# STRETCHED AUDIO\n",
    "x = stretch(data)\n",
    "plt.figure(figsize=(12, 5))\n",
    "librosa.display.waveshow(y=x, sr=sr)\n",
    "ipd.Audio(x, rate=sr)"
   ]
  },
  {
   "cell_type": "code",
   "execution_count": null,
   "metadata": {
    "execution": {
     "iopub.execute_input": "2024-12-29T08:10:33.900443Z",
     "iopub.status.busy": "2024-12-29T08:10:33.900196Z",
     "iopub.status.idle": "2024-12-29T08:10:34.531486Z",
     "shell.execute_reply": "2024-12-29T08:10:34.530723Z",
     "shell.execute_reply.started": "2024-12-29T08:10:33.900421Z"
    },
    "papermill": {
     "duration": 0.474343,
     "end_time": "2023-07-01T21:58:34.839092",
     "exception": false,
     "start_time": "2023-07-01T21:58:34.364749",
     "status": "completed"
    },
    "tags": [],
    "trusted": true
   },
   "outputs": [],
   "source": [
    "# SHIFTED AUDIO\n",
    "x = shift(data)\n",
    "plt.figure(figsize=(12,5))\n",
    "librosa.display.waveshow(y=x, sr=sr)\n",
    "ipd.Audio(x, rate=sr)"
   ]
  },
  {
   "cell_type": "code",
   "execution_count": null,
   "metadata": {
    "execution": {
     "iopub.execute_input": "2024-12-29T08:10:34.532443Z",
     "iopub.status.busy": "2024-12-29T08:10:34.532220Z",
     "iopub.status.idle": "2024-12-29T08:10:35.163623Z",
     "shell.execute_reply": "2024-12-29T08:10:35.162751Z",
     "shell.execute_reply.started": "2024-12-29T08:10:34.532423Z"
    },
    "papermill": {
     "duration": 0.58569,
     "end_time": "2023-07-01T21:58:35.478918",
     "exception": false,
     "start_time": "2023-07-01T21:58:34.893228",
     "status": "completed"
    },
    "tags": [],
    "trusted": true
   },
   "outputs": [],
   "source": [
    "# AUDIO WITH PITCH\n",
    "x = pitch(data, sr)\n",
    "plt.figure(figsize=(12, 5))\n",
    "librosa.display.waveshow(y=x, sr=sr)\n",
    "ipd.Audio(x, rate=sr)"
   ]
  },
  {
   "cell_type": "markdown",
   "metadata": {
    "papermill": {
     "duration": 0.057118,
     "end_time": "2023-07-01T21:58:35.593863",
     "exception": false,
     "start_time": "2023-07-01T21:58:35.536745",
     "status": "completed"
    },
    "tags": []
   },
   "source": [
    "# Feature Extraction"
   ]
  },
  {
   "cell_type": "code",
   "execution_count": null,
   "metadata": {
    "execution": {
     "iopub.execute_input": "2024-12-29T08:10:35.164782Z",
     "iopub.status.busy": "2024-12-29T08:10:35.164479Z",
     "iopub.status.idle": "2024-12-29T08:10:35.172068Z",
     "shell.execute_reply": "2024-12-29T08:10:35.171322Z",
     "shell.execute_reply.started": "2024-12-29T08:10:35.164759Z"
    },
    "papermill": {
     "duration": 0.075607,
     "end_time": "2023-07-01T21:58:35.729284",
     "exception": false,
     "start_time": "2023-07-01T21:58:35.653677",
     "status": "completed"
    },
    "tags": [],
    "trusted": true
   },
   "outputs": [],
   "source": [
    "def zcr(data,frame_length,hop_length):\n",
    "    zcr=librosa.feature.zero_crossing_rate(data,frame_length=frame_length,hop_length=hop_length)\n",
    "    return np.squeeze(zcr)\n",
    "def rmse(data,frame_length=2048,hop_length=512):\n",
    "    rmse=librosa.feature.rms(y=data,frame_length=frame_length,hop_length=hop_length)\n",
    "    return np.squeeze(rmse)\n",
    "def mfcc(data,sr,frame_length=2048,hop_length=512,flatten:bool=True):\n",
    "    mfcc=librosa.feature.mfcc(y=data,sr=sr)\n",
    "    return np.squeeze(mfcc.T)if not flatten else np.ravel(mfcc.T)\n",
    "\n",
    "def extract_features(data,sr=22050,frame_length=2048,hop_length=512):\n",
    "    result=np.array([])\n",
    "    \n",
    "    result=np.hstack((result,\n",
    "                      zcr(data,frame_length,hop_length),\n",
    "                      rmse(data,frame_length,hop_length),\n",
    "                      mfcc(data,sr,frame_length,hop_length)\n",
    "                     ))\n",
    "    return result\n",
    "\n",
    "def get_features(path,duration=2.5, offset=0.6):\n",
    "    data,sr=librosa.load(path,duration=duration,offset=offset)\n",
    "    aud=extract_features(data)\n",
    "    audio=np.array(aud)\n",
    "    \n",
    "    noised_audio=noise(data)\n",
    "    aud2=extract_features(noised_audio)\n",
    "    audio=np.vstack((audio,aud2))\n",
    "    \n",
    "    pitched_audio=pitch(data,sr)\n",
    "    aud3=extract_features(pitched_audio)\n",
    "    audio=np.vstack((audio,aud3))\n",
    "    \n",
    "    pitched_audio1=pitch(data,sr)\n",
    "    pitched_noised_audio=noise(pitched_audio1)\n",
    "    aud4=extract_features(pitched_noised_audio)\n",
    "    audio=np.vstack((audio,aud4))\n",
    "    \n",
    "    return audio"
   ]
  },
  {
   "cell_type": "markdown",
   "metadata": {},
   "source": [
    "**zcr(data, frame_length, hop_length)**\n",
    "\n",
    "- Tính toán Zero Crossing Rate (ZCR), là số lần tín hiệu âm thanh thay đổi dấu trong một khung (frame).\n",
    "- frame_length: Kích thước khung (số mẫu trong mỗi khung).\n",
    "- hop_length: Bước nhảy giữa các khung.\n",
    "- Kết quả trả về là một mảng 1D của ZCR cho mỗi khung âm thanh.\n",
    "\n",
    "**rmse(data, frame_length=2048, hop_length=512)**\n",
    "\n",
    "- Tính toán Root Mean Square Error (RMSE), đo độ lớn của tín hiệu âm thanh.\n",
    "- frame_length và hop_length: Tương tự như trong hàm ZCR, chỉ định kích thước khung và bước nhảy.\n",
    "\n",
    "**mfcc(data, sr, frame_length=2048, hop_length=512, flatten=True)**\n",
    "\n",
    "- Tính toán MFCC (Mel-frequency cepstral coefficients), một đặc trưng quan trọng trong phân tích âm thanh, đặc biệt trong nhận diện giọng nói.\n",
    "- flatten: Nếu True, kết quả sẽ được chuyển thành mảng 1D (sử dụng np.ravel()), nếu không sẽ giữ dạng 2D.\n",
    "\n",
    "**extract_features(data, sr=22050, frame_length=2048, hop_length=512)**\n",
    "\n",
    "- Trích xuất các đặc trưng từ tín hiệu âm thanh data.\n",
    "- Kết hợp các đặc trưng: ZCR, RMSE và MFCC bằng cách sử dụng hàm hstack (kết hợp các mảng theo chiều ngang).\n",
    "\n",
    "**get_features(path, duration=2.5, offset=0.6)**\n",
    "\n",
    "- Đọc tệp âm thanh từ path với độ dài duration và độ trễ offset.\n",
    "- Trích xuất các đặc trưng từ âm thanh gốc và các biến thể của nó (âm thanh có nhiễu, thay đổi cao độ, và âm thanh có nhiễu với thay đổi cao độ).\n",
    "- Kết quả là một mảng 2D chứa tất cả các đặc trưng trích xuất được từ âm thanh gốc và các biến thể."
   ]
  },
  {
   "cell_type": "code",
   "execution_count": null,
   "metadata": {
    "execution": {
     "iopub.execute_input": "2024-12-29T08:10:35.173026Z",
     "iopub.status.busy": "2024-12-29T08:10:35.172794Z",
     "iopub.status.idle": "2024-12-29T08:10:35.192186Z",
     "shell.execute_reply": "2024-12-29T08:10:35.191444Z",
     "shell.execute_reply.started": "2024-12-29T08:10:35.173007Z"
    },
    "papermill": {
     "duration": 0.06852,
     "end_time": "2023-07-01T21:58:35.854953",
     "exception": false,
     "start_time": "2023-07-01T21:58:35.786433",
     "status": "completed"
    },
    "tags": [],
    "trusted": true
   },
   "outputs": [],
   "source": [
    "# In ra số lượng bộ xử lý (processors) mà hệ thống của bạn đang có.\n",
    "import multiprocessing as mp\n",
    "print(\"Number of processors: \", mp.cpu_count())"
   ]
  },
  {
   "cell_type": "markdown",
   "metadata": {
    "papermill": {
     "duration": 0.059516,
     "end_time": "2023-07-01T21:58:35.971565",
     "exception": false,
     "start_time": "2023-07-01T21:58:35.912049",
     "status": "completed"
    },
    "tags": []
   },
   "source": [
    "# Get features"
   ]
  },
  {
   "cell_type": "code",
   "execution_count": null,
   "metadata": {
    "execution": {
     "execution_failed": "2024-12-29T08:22:06.905Z",
     "iopub.execute_input": "2024-12-29T08:10:35.193284Z",
     "iopub.status.busy": "2024-12-29T08:10:35.193061Z"
    },
    "papermill": {
     "duration": 5594.622212,
     "end_time": "2023-07-01T23:31:50.651443",
     "exception": false,
     "start_time": "2023-07-01T21:58:36.029231",
     "status": "completed"
    },
    "tags": [],
    "trusted": true
   },
   "outputs": [],
   "source": [
    "import timeit\n",
    "from tqdm import tqdm\n",
    "start = timeit.default_timer() #Ghi lại thời gian bắt đầu\n",
    "X,Y=[],[]\n",
    "for path,emotion,index in tqdm (zip(data_path.Path,data_path.Emotions,range(data_path.Path.shape[0]))):\n",
    "    features=get_features(path)\n",
    "    if index%500==0:\n",
    "        print(f'{index} audio has been processed')\n",
    "    for i in features:\n",
    "        X.append(i)\n",
    "        Y.append(emotion)\n",
    "print('Done')\n",
    "stop = timeit.default_timer()\n",
    "\n",
    "print('Time: ', stop - start)         "
   ]
  },
  {
   "cell_type": "markdown",
   "metadata": {},
   "source": [
    "**for path, emotion, index in tqdm(zip(data_path.Path, data_path.Emotions, range(data_path.Path.shape[0]))):**:\n",
    "- Duyệt qua từng tệp âm thanh trong data_path.Path và các nhãn cảm xúc tương ứng trong data_path.Emotions.\n",
    "- zip() kết hợp các giá trị từ ba danh sách (đường dẫn tệp, nhãn cảm xúc và chỉ số).\n",
    "- tqdm(): Hiển thị thanh tiến độ cho vòng lặp.\n",
    "\n",
    "**features = get_features(path)**: Trích xuất đặc trưng âm thanh từ tệp tại path.\n",
    "**if index % 500 == 0:**: Mỗi khi xử lý xong 500 tệp, in ra thông báo để theo dõi tiến độ.\n",
    "**X.append(i)** và **Y.append(emotion)**:\n",
    "- Lưu trữ đặc trưng i và nhãn cảm xúc emotion vào các danh sách X và Y tương ứng."
   ]
  },
  {
   "cell_type": "code",
   "execution_count": null,
   "metadata": {
    "execution": {
     "execution_failed": "2024-12-29T08:22:06.906Z"
    },
    "papermill": {
     "duration": 0.995293,
     "end_time": "2023-07-01T23:31:58.761200",
     "exception": false,
     "start_time": "2023-07-01T23:31:57.765907",
     "status": "completed"
    },
    "tags": [],
    "trusted": true
   },
   "outputs": [],
   "source": [
    "len(X), len(Y), data_path.Path.shape\n"
   ]
  },
  {
   "cell_type": "markdown",
   "metadata": {
    "papermill": {
     "duration": 0.928271,
     "end_time": "2023-07-01T23:32:00.687697",
     "exception": false,
     "start_time": "2023-07-01T23:31:59.759426",
     "status": "completed"
    },
    "tags": []
   },
   "source": [
    "# Saving features"
   ]
  },
  {
   "cell_type": "code",
   "execution_count": null,
   "metadata": {
    "execution": {
     "execution_failed": "2024-12-29T08:22:06.906Z"
    },
    "papermill": {
     "duration": 217.247338,
     "end_time": "2023-07-01T23:35:38.923513",
     "exception": false,
     "start_time": "2023-07-01T23:32:01.676175",
     "status": "completed"
    },
    "tags": [],
    "trusted": true
   },
   "outputs": [],
   "source": [
    "Emotions = pd.DataFrame(X)\n",
    "Emotions['Emotions'] = Y\n",
    "Emotions.to_csv('emotion.csv', index=False)\n",
    "Emotions.head()"
   ]
  },
  {
   "cell_type": "code",
   "execution_count": 2,
   "metadata": {
    "execution": {
     "iopub.execute_input": "2024-12-31T02:43:35.429902Z",
     "iopub.status.busy": "2024-12-31T02:43:35.429316Z",
     "iopub.status.idle": "2024-12-31T02:44:09.788060Z",
     "shell.execute_reply": "2024-12-31T02:44:09.787351Z",
     "shell.execute_reply.started": "2024-12-31T02:43:35.429869Z"
    },
    "papermill": {
     "duration": 29.541249,
     "end_time": "2023-07-01T23:36:09.450438",
     "exception": false,
     "start_time": "2023-07-01T23:35:39.909189",
     "status": "completed"
    },
    "tags": [],
    "trusted": true
   },
   "outputs": [
    {
     "data": {
      "text/html": [
       "<div>\n",
       "<style scoped>\n",
       "    .dataframe tbody tr th:only-of-type {\n",
       "        vertical-align: middle;\n",
       "    }\n",
       "\n",
       "    .dataframe tbody tr th {\n",
       "        vertical-align: top;\n",
       "    }\n",
       "\n",
       "    .dataframe thead th {\n",
       "        text-align: right;\n",
       "    }\n",
       "</style>\n",
       "<table border=\"1\" class=\"dataframe\">\n",
       "  <thead>\n",
       "    <tr style=\"text-align: right;\">\n",
       "      <th></th>\n",
       "      <th>0</th>\n",
       "      <th>1</th>\n",
       "      <th>2</th>\n",
       "      <th>3</th>\n",
       "      <th>4</th>\n",
       "      <th>5</th>\n",
       "      <th>6</th>\n",
       "      <th>7</th>\n",
       "      <th>8</th>\n",
       "      <th>9</th>\n",
       "      <th>...</th>\n",
       "      <th>2367</th>\n",
       "      <th>2368</th>\n",
       "      <th>2369</th>\n",
       "      <th>2370</th>\n",
       "      <th>2371</th>\n",
       "      <th>2372</th>\n",
       "      <th>2373</th>\n",
       "      <th>2374</th>\n",
       "      <th>2375</th>\n",
       "      <th>Emotions</th>\n",
       "    </tr>\n",
       "  </thead>\n",
       "  <tbody>\n",
       "    <tr>\n",
       "      <th>0</th>\n",
       "      <td>0.331543</td>\n",
       "      <td>0.471680</td>\n",
       "      <td>0.564941</td>\n",
       "      <td>0.452148</td>\n",
       "      <td>0.374512</td>\n",
       "      <td>0.296875</td>\n",
       "      <td>0.265137</td>\n",
       "      <td>0.256348</td>\n",
       "      <td>0.252441</td>\n",
       "      <td>0.251953</td>\n",
       "      <td>...</td>\n",
       "      <td>-1.517647</td>\n",
       "      <td>-1.716411</td>\n",
       "      <td>-1.599245</td>\n",
       "      <td>-1.234544</td>\n",
       "      <td>-0.693115</td>\n",
       "      <td>-0.038821</td>\n",
       "      <td>0.675410</td>\n",
       "      <td>1.405862</td>\n",
       "      <td>2.112551</td>\n",
       "      <td>surprise</td>\n",
       "    </tr>\n",
       "    <tr>\n",
       "      <th>1</th>\n",
       "      <td>0.238770</td>\n",
       "      <td>0.361816</td>\n",
       "      <td>0.478516</td>\n",
       "      <td>0.473633</td>\n",
       "      <td>0.485352</td>\n",
       "      <td>0.476074</td>\n",
       "      <td>0.472656</td>\n",
       "      <td>0.468262</td>\n",
       "      <td>0.472656</td>\n",
       "      <td>0.486816</td>\n",
       "      <td>...</td>\n",
       "      <td>2.192987</td>\n",
       "      <td>1.378691</td>\n",
       "      <td>1.542983</td>\n",
       "      <td>1.766679</td>\n",
       "      <td>-1.586487</td>\n",
       "      <td>-0.501919</td>\n",
       "      <td>-3.159530</td>\n",
       "      <td>-5.015890</td>\n",
       "      <td>-0.942531</td>\n",
       "      <td>surprise</td>\n",
       "    </tr>\n",
       "    <tr>\n",
       "      <th>2</th>\n",
       "      <td>0.299805</td>\n",
       "      <td>0.419922</td>\n",
       "      <td>0.525879</td>\n",
       "      <td>0.459473</td>\n",
       "      <td>0.378418</td>\n",
       "      <td>0.326172</td>\n",
       "      <td>0.282227</td>\n",
       "      <td>0.260254</td>\n",
       "      <td>0.258789</td>\n",
       "      <td>0.253906</td>\n",
       "      <td>...</td>\n",
       "      <td>0.518931</td>\n",
       "      <td>0.839123</td>\n",
       "      <td>1.308965</td>\n",
       "      <td>1.855116</td>\n",
       "      <td>2.404975</td>\n",
       "      <td>2.896071</td>\n",
       "      <td>3.282977</td>\n",
       "      <td>3.541091</td>\n",
       "      <td>3.666846</td>\n",
       "      <td>surprise</td>\n",
       "    </tr>\n",
       "    <tr>\n",
       "      <th>3</th>\n",
       "      <td>0.252930</td>\n",
       "      <td>0.382812</td>\n",
       "      <td>0.497559</td>\n",
       "      <td>0.497070</td>\n",
       "      <td>0.487793</td>\n",
       "      <td>0.472656</td>\n",
       "      <td>0.482422</td>\n",
       "      <td>0.484375</td>\n",
       "      <td>0.497070</td>\n",
       "      <td>0.510254</td>\n",
       "      <td>...</td>\n",
       "      <td>-2.445378</td>\n",
       "      <td>-2.712779</td>\n",
       "      <td>-1.120462</td>\n",
       "      <td>-3.266942</td>\n",
       "      <td>7.691891</td>\n",
       "      <td>7.443986</td>\n",
       "      <td>-2.031003</td>\n",
       "      <td>-2.095720</td>\n",
       "      <td>-1.418903</td>\n",
       "      <td>surprise</td>\n",
       "    </tr>\n",
       "    <tr>\n",
       "      <th>4</th>\n",
       "      <td>0.400879</td>\n",
       "      <td>0.591309</td>\n",
       "      <td>0.783203</td>\n",
       "      <td>0.777832</td>\n",
       "      <td>0.771973</td>\n",
       "      <td>0.777832</td>\n",
       "      <td>0.771973</td>\n",
       "      <td>0.775391</td>\n",
       "      <td>0.758789</td>\n",
       "      <td>0.580078</td>\n",
       "      <td>...</td>\n",
       "      <td>2.585884</td>\n",
       "      <td>2.746578</td>\n",
       "      <td>2.223155</td>\n",
       "      <td>0.986784</td>\n",
       "      <td>-0.730886</td>\n",
       "      <td>-2.531058</td>\n",
       "      <td>-4.002848</td>\n",
       "      <td>-4.849192</td>\n",
       "      <td>-4.929412</td>\n",
       "      <td>neutral</td>\n",
       "    </tr>\n",
       "  </tbody>\n",
       "</table>\n",
       "<p>5 rows × 2377 columns</p>\n",
       "</div>"
      ],
      "text/plain": [
       "          0         1         2         3         4         5         6  \\\n",
       "0  0.331543  0.471680  0.564941  0.452148  0.374512  0.296875  0.265137   \n",
       "1  0.238770  0.361816  0.478516  0.473633  0.485352  0.476074  0.472656   \n",
       "2  0.299805  0.419922  0.525879  0.459473  0.378418  0.326172  0.282227   \n",
       "3  0.252930  0.382812  0.497559  0.497070  0.487793  0.472656  0.482422   \n",
       "4  0.400879  0.591309  0.783203  0.777832  0.771973  0.777832  0.771973   \n",
       "\n",
       "          7         8         9  ...      2367      2368      2369      2370  \\\n",
       "0  0.256348  0.252441  0.251953  ... -1.517647 -1.716411 -1.599245 -1.234544   \n",
       "1  0.468262  0.472656  0.486816  ...  2.192987  1.378691  1.542983  1.766679   \n",
       "2  0.260254  0.258789  0.253906  ...  0.518931  0.839123  1.308965  1.855116   \n",
       "3  0.484375  0.497070  0.510254  ... -2.445378 -2.712779 -1.120462 -3.266942   \n",
       "4  0.775391  0.758789  0.580078  ...  2.585884  2.746578  2.223155  0.986784   \n",
       "\n",
       "       2371      2372      2373      2374      2375  Emotions  \n",
       "0 -0.693115 -0.038821  0.675410  1.405862  2.112551  surprise  \n",
       "1 -1.586487 -0.501919 -3.159530 -5.015890 -0.942531  surprise  \n",
       "2  2.404975  2.896071  3.282977  3.541091  3.666846  surprise  \n",
       "3  7.691891  7.443986 -2.031003 -2.095720 -1.418903  surprise  \n",
       "4 -0.730886 -2.531058 -4.002848 -4.849192 -4.929412   neutral  \n",
       "\n",
       "[5 rows x 2377 columns]"
      ]
     },
     "execution_count": 2,
     "metadata": {},
     "output_type": "execute_result"
    }
   ],
   "source": [
    "Emotions = pd.read_csv('/kaggle/input/emotion/emotion.csv')\n",
    "Emotions.head()"
   ]
  },
  {
   "cell_type": "code",
   "execution_count": 3,
   "metadata": {
    "execution": {
     "iopub.execute_input": "2024-12-31T02:44:22.197001Z",
     "iopub.status.busy": "2024-12-31T02:44:22.196703Z",
     "iopub.status.idle": "2024-12-31T02:44:22.298295Z",
     "shell.execute_reply": "2024-12-31T02:44:22.297605Z",
     "shell.execute_reply.started": "2024-12-31T02:44:22.196969Z"
    },
    "papermill": {
     "duration": 1.045984,
     "end_time": "2023-07-01T23:36:11.484767",
     "exception": false,
     "start_time": "2023-07-01T23:36:10.438783",
     "status": "completed"
    },
    "tags": [],
    "trusted": true
   },
   "outputs": [
    {
     "name": "stdout",
     "output_type": "stream",
     "text": [
      "0           False\n",
      "1           False\n",
      "2           False\n",
      "3           False\n",
      "4           False\n",
      "            ...  \n",
      "2372         True\n",
      "2373         True\n",
      "2374         True\n",
      "2375         True\n",
      "Emotions    False\n",
      "Length: 2377, dtype: bool\n"
     ]
    }
   ],
   "source": [
    "print(Emotions.isna().any())"
   ]
  },
  {
   "cell_type": "code",
   "execution_count": 4,
   "metadata": {
    "execution": {
     "iopub.execute_input": "2024-12-31T02:44:24.482291Z",
     "iopub.status.busy": "2024-12-31T02:44:24.481967Z",
     "iopub.status.idle": "2024-12-31T02:44:25.050617Z",
     "shell.execute_reply": "2024-12-31T02:44:25.049695Z",
     "shell.execute_reply.started": "2024-12-31T02:44:24.482263Z"
    },
    "papermill": {
     "duration": 1.586623,
     "end_time": "2023-07-01T23:36:14.077551",
     "exception": false,
     "start_time": "2023-07-01T23:36:12.490928",
     "status": "completed"
    },
    "tags": [],
    "trusted": true
   },
   "outputs": [
    {
     "name": "stdout",
     "output_type": "stream",
     "text": [
      "0           False\n",
      "1           False\n",
      "2           False\n",
      "3           False\n",
      "4           False\n",
      "            ...  \n",
      "2372        False\n",
      "2373        False\n",
      "2374        False\n",
      "2375        False\n",
      "Emotions    False\n",
      "Length: 2377, dtype: bool\n"
     ]
    },
    {
     "data": {
      "text/plain": [
       "(48648, 2377)"
      ]
     },
     "execution_count": 4,
     "metadata": {},
     "output_type": "execute_result"
    }
   ],
   "source": [
    "Emotions=Emotions.fillna(0)\n",
    "print(Emotions.isna().any())\n",
    "Emotions.shape"
   ]
  },
  {
   "cell_type": "code",
   "execution_count": 5,
   "metadata": {
    "execution": {
     "iopub.execute_input": "2024-12-31T02:44:27.216491Z",
     "iopub.status.busy": "2024-12-31T02:44:27.216163Z",
     "iopub.status.idle": "2024-12-31T02:44:27.375145Z",
     "shell.execute_reply": "2024-12-31T02:44:27.374287Z",
     "shell.execute_reply.started": "2024-12-31T02:44:27.216463Z"
    },
    "papermill": {
     "duration": 1.165092,
     "end_time": "2023-07-01T23:36:16.239047",
     "exception": false,
     "start_time": "2023-07-01T23:36:15.073955",
     "status": "completed"
    },
    "tags": [],
    "trusted": true
   },
   "outputs": [
    {
     "name": "stderr",
     "output_type": "stream",
     "text": [
      "/usr/local/lib/python3.10/dist-packages/numpy/core/fromnumeric.py:86: FutureWarning: The behavior of DataFrame.sum with axis=None is deprecated, in a future version this will reduce over both axes and return a scalar. To retain the old behavior, pass axis=0 (or do not pass axis)\n",
      "  return reduction(axis=axis, out=out, **passkwargs)\n"
     ]
    },
    {
     "data": {
      "text/plain": [
       "0           0\n",
       "1           0\n",
       "2           0\n",
       "3           0\n",
       "4           0\n",
       "           ..\n",
       "2372        0\n",
       "2373        0\n",
       "2374        0\n",
       "2375        0\n",
       "Emotions    0\n",
       "Length: 2377, dtype: int64"
      ]
     },
     "execution_count": 5,
     "metadata": {},
     "output_type": "execute_result"
    }
   ],
   "source": [
    "np.sum(Emotions.isna())"
   ]
  },
  {
   "cell_type": "markdown",
   "metadata": {
    "papermill": {
     "duration": 1.020431,
     "end_time": "2023-07-01T23:36:18.189692",
     "exception": false,
     "start_time": "2023-07-01T23:36:17.169261",
     "status": "completed"
    },
    "tags": []
   },
   "source": [
    "# Data preparation"
   ]
  },
  {
   "cell_type": "code",
   "execution_count": 6,
   "metadata": {
    "execution": {
     "iopub.execute_input": "2024-12-31T02:46:53.432509Z",
     "iopub.status.busy": "2024-12-31T02:46:53.432211Z",
     "iopub.status.idle": "2024-12-31T02:46:53.697464Z",
     "shell.execute_reply": "2024-12-31T02:46:53.696787Z",
     "shell.execute_reply.started": "2024-12-31T02:46:53.432485Z"
    },
    "papermill": {
     "duration": 1.891783,
     "end_time": "2023-07-01T23:36:21.010232",
     "exception": false,
     "start_time": "2023-07-01T23:36:19.118449",
     "status": "completed"
    },
    "tags": [],
    "trusted": true
   },
   "outputs": [],
   "source": [
    "#lấy tất cả các hàng và tất cả các cột trừ cột cuối cùng cho X bao gồm các tính năng\n",
    "#lấy cột cuối cùng cho Y, bao gồm cả cảm xúc\n",
    "X = Emotions.iloc[: ,:-1].values\n",
    "Y = Emotions['Emotions'].values"
   ]
  },
  {
   "cell_type": "code",
   "execution_count": 7,
   "metadata": {
    "execution": {
     "iopub.execute_input": "2024-12-31T02:46:56.318139Z",
     "iopub.status.busy": "2024-12-31T02:46:56.317839Z",
     "iopub.status.idle": "2024-12-31T02:46:56.336507Z",
     "shell.execute_reply": "2024-12-31T02:46:56.335521Z",
     "shell.execute_reply.started": "2024-12-31T02:46:56.318117Z"
    },
    "papermill": {
     "duration": 1.021984,
     "end_time": "2023-07-01T23:36:22.961334",
     "exception": false,
     "start_time": "2023-07-01T23:36:21.939350",
     "status": "completed"
    },
    "tags": [],
    "trusted": true
   },
   "outputs": [],
   "source": [
    "# Chuyển đổi nhãn Y thành dạng mã hóa một nóng, phù hợp với bài toán phân loại nhiều lớp (multiclass classification).\n",
    "from sklearn.preprocessing import StandardScaler, OneHotEncoder\n",
    "encoder = OneHotEncoder()\n",
    "Y = encoder.fit_transform(np.array(Y).reshape(-1,1)).toarray()"
   ]
  },
  {
   "cell_type": "markdown",
   "metadata": {},
   "source": [
    "One-Hot Encoding biến các nhãn phân loại thành các vector, trong đó mỗi lớp sẽ có một vị trí \"1\" duy nhất, còn lại là \"0\".\n",
    "Ví dụ:\n",
    "\n",
    "Nếu nhãn Y = ['happy', 'sad', 'angry', 'happy'], thì sau khi One-Hot Encoding, Y sẽ trở thành:\n",
    "\n",
    "[[0, 1, 0],   # happy\n",
    "\n",
    " [1, 0, 0],   # sad\n",
    " \n",
    " [0, 0, 1],   # angry\n",
    " \n",
    " [0, 1, 0]]   # happy\n",
    "\n",
    " **Tóm tắt**: Đoạn mã này biến đổi nhãn Y thành dạng One-Hot Encoding để có thể sử dụng cho các mô hình phân loại đa lớp (multiclass classification)."
   ]
  },
  {
   "cell_type": "code",
   "execution_count": 8,
   "metadata": {
    "execution": {
     "iopub.execute_input": "2024-12-31T02:47:00.193473Z",
     "iopub.status.busy": "2024-12-31T02:47:00.193149Z",
     "iopub.status.idle": "2024-12-31T02:47:00.199103Z",
     "shell.execute_reply": "2024-12-31T02:47:00.198407Z",
     "shell.execute_reply.started": "2024-12-31T02:47:00.193445Z"
    },
    "papermill": {
     "duration": 0.948197,
     "end_time": "2023-07-01T23:36:24.850397",
     "exception": false,
     "start_time": "2023-07-01T23:36:23.902200",
     "status": "completed"
    },
    "tags": [],
    "trusted": true
   },
   "outputs": [
    {
     "name": "stdout",
     "output_type": "stream",
     "text": [
      "(48648, 7)\n"
     ]
    },
    {
     "data": {
      "text/plain": [
       "(48648, 2376)"
      ]
     },
     "execution_count": 8,
     "metadata": {},
     "output_type": "execute_result"
    }
   ],
   "source": [
    "print(Y.shape)\n",
    "X.shape"
   ]
  },
  {
   "cell_type": "code",
   "execution_count": 9,
   "metadata": {
    "execution": {
     "iopub.execute_input": "2024-12-31T02:47:02.309731Z",
     "iopub.status.busy": "2024-12-31T02:47:02.309427Z",
     "iopub.status.idle": "2024-12-31T02:47:03.698177Z",
     "shell.execute_reply": "2024-12-31T02:47:03.697472Z",
     "shell.execute_reply.started": "2024-12-31T02:47:02.309710Z"
    },
    "papermill": {
     "duration": 5.391928,
     "end_time": "2023-07-01T23:36:31.245218",
     "exception": false,
     "start_time": "2023-07-01T23:36:25.853290",
     "status": "completed"
    },
    "tags": [],
    "trusted": true
   },
   "outputs": [
    {
     "data": {
      "text/plain": [
       "((38918, 2376), (38918, 7), (9730, 2376), (9730, 7))"
      ]
     },
     "execution_count": 9,
     "metadata": {},
     "output_type": "execute_result"
    }
   ],
   "source": [
    "from sklearn.model_selection import train_test_split\n",
    "\n",
    "x_train, x_test, y_train, y_test = train_test_split(X, Y, random_state=42,test_size=0.2, shuffle=True)\n",
    "x_train.shape, y_train.shape, x_test.shape, y_test.shape"
   ]
  },
  {
   "cell_type": "code",
   "execution_count": 10,
   "metadata": {
    "execution": {
     "iopub.execute_input": "2024-12-31T02:47:06.992613Z",
     "iopub.status.busy": "2024-12-31T02:47:06.992222Z",
     "iopub.status.idle": "2024-12-31T02:47:06.997075Z",
     "shell.execute_reply": "2024-12-31T02:47:06.996154Z",
     "shell.execute_reply.started": "2024-12-31T02:47:06.992555Z"
    },
    "papermill": {
     "duration": 1.022831,
     "end_time": "2023-07-01T23:36:33.205096",
     "exception": false,
     "start_time": "2023-07-01T23:36:32.182265",
     "status": "completed"
    },
    "tags": [],
    "trusted": true
   },
   "outputs": [],
   "source": [
    "#reshape for lstm\n",
    "X_train = x_train.reshape(x_train.shape[0] , x_train.shape[1] , 1)\n",
    "X_test = x_test.reshape(x_test.shape[0] , x_test.shape[1] , 1)"
   ]
  },
  {
   "cell_type": "code",
   "execution_count": 11,
   "metadata": {
    "execution": {
     "iopub.execute_input": "2024-12-31T02:47:08.928698Z",
     "iopub.status.busy": "2024-12-31T02:47:08.928337Z",
     "iopub.status.idle": "2024-12-31T02:47:10.310469Z",
     "shell.execute_reply": "2024-12-31T02:47:10.309760Z",
     "shell.execute_reply.started": "2024-12-31T02:47:08.928668Z"
    },
    "papermill": {
     "duration": 3.552855,
     "end_time": "2023-07-01T23:36:37.690036",
     "exception": false,
     "start_time": "2023-07-01T23:36:34.137181",
     "status": "completed"
    },
    "tags": [],
    "trusted": true
   },
   "outputs": [
    {
     "data": {
      "text/plain": [
       "((38918, 2376), (38918, 7), (9730, 2376), (9730, 7))"
      ]
     },
     "execution_count": 11,
     "metadata": {},
     "output_type": "execute_result"
    }
   ],
   "source": [
    "# Chuẩn hóa dữ liệu bằng cách sử dụng StandardScaler\n",
    "scaler = StandardScaler()\n",
    "x_train = scaler.fit_transform(x_train)\n",
    "x_test = scaler.transform(x_test)\n",
    "x_train.shape, y_train.shape, x_test.shape, y_test.shape"
   ]
  },
  {
   "cell_type": "markdown",
   "metadata": {},
   "source": [
    "- StandardScaler chuẩn hóa dữ liệu của bạn sao cho mỗi tính năng có trung bình bằng 0 và độ lệch chuẩn bằng 1.\n",
    "- fit_transform() được sử dụng trên dữ liệu huấn luyện để tính toán tham số chuẩn hóa, trong khi transform() chỉ áp dụng chuẩn hóa cho dữ liệu kiểm tra."
   ]
  },
  {
   "cell_type": "code",
   "execution_count": 15,
   "metadata": {
    "execution": {
     "iopub.execute_input": "2024-12-30T03:46:12.329862Z",
     "iopub.status.busy": "2024-12-30T03:46:12.329569Z",
     "iopub.status.idle": "2024-12-30T03:46:12.334810Z",
     "shell.execute_reply": "2024-12-30T03:46:12.333939Z",
     "shell.execute_reply.started": "2024-12-30T03:46:12.329841Z"
    },
    "papermill": {
     "duration": 1.07326,
     "end_time": "2023-07-01T23:36:39.812513",
     "exception": false,
     "start_time": "2023-07-01T23:36:38.739253",
     "status": "completed"
    },
    "tags": [],
    "trusted": true
   },
   "outputs": [],
   "source": [
    "import keras\n",
    "from keras.preprocessing import sequence\n",
    "from keras.models import Sequential\n",
    "from keras.layers import Dense, Embedding\n",
    "from keras.layers import LSTM,BatchNormalization , GRU\n",
    "from tensorflow.keras.preprocessing.text import Tokenizer\n",
    "from keras.preprocessing.sequence import pad_sequences\n",
    "from tensorflow.keras.utils import to_categorical\n",
    "from keras.layers import Input, Flatten, Dropout, Activation\n",
    "from keras.layers import Conv1D, MaxPooling1D, AveragePooling1D\n",
    "from keras.models import Model\n",
    "from keras.callbacks import ModelCheckpoint\n",
    "from tensorflow.keras.optimizers import SGD"
   ]
  },
  {
   "cell_type": "markdown",
   "metadata": {
    "papermill": {
     "duration": 0.989157,
     "end_time": "2023-07-01T23:36:41.733745",
     "exception": false,
     "start_time": "2023-07-01T23:36:40.744588",
     "status": "completed"
    },
    "tags": []
   },
   "source": [
    "> Applying early stopping for models\n"
   ]
  },
  {
   "cell_type": "code",
   "execution_count": 16,
   "metadata": {
    "execution": {
     "iopub.execute_input": "2024-12-30T03:46:22.312265Z",
     "iopub.status.busy": "2024-12-30T03:46:22.311977Z",
     "iopub.status.idle": "2024-12-30T03:46:22.316113Z",
     "shell.execute_reply": "2024-12-30T03:46:22.315336Z",
     "shell.execute_reply.started": "2024-12-30T03:46:22.312242Z"
    },
    "papermill": {
     "duration": 1.004643,
     "end_time": "2023-07-01T23:36:43.664044",
     "exception": false,
     "start_time": "2023-07-01T23:36:42.659401",
     "status": "completed"
    },
    "tags": [],
    "trusted": true
   },
   "outputs": [],
   "source": [
    "from keras.callbacks import ModelCheckpoint, EarlyStopping,ReduceLROnPlateau\n",
    "model_checkpoint = ModelCheckpoint('best_model1_weights.keras', monitor='val_accuracy', save_best_only=True)"
   ]
  },
  {
   "cell_type": "markdown",
   "metadata": {},
   "source": [
    "- **ModelCheckpoint** là một callback lưu lại trọng số của mô hình trong quá trình huấn luyện, chỉ lưu lại mô hình có độ chính xác (accuracy) trên tập kiểm tra (val_accuracy) tốt nhất.\n",
    "- **monitor='val_accuracy'**: Theo dõi độ chính xác trên tập kiểm tra.\n",
    "- **save_best_only=True**: Chỉ lưu trọng số mô hình khi đạt được độ chính xác tốt nhất trên tập kiểm tra.\n",
    "- **'best_model1_weights.keras'**: Tên tệp nơi trọng số của mô hình sẽ được lưu.\n",
    "**Ý nghĩa**: Callback này giúp bạn lưu lại mô hình với trọng số tốt nhất trong quá trình huấn luyện."
   ]
  },
  {
   "cell_type": "code",
   "execution_count": 17,
   "metadata": {
    "execution": {
     "iopub.execute_input": "2024-12-30T03:46:25.657929Z",
     "iopub.status.busy": "2024-12-30T03:46:25.657612Z",
     "iopub.status.idle": "2024-12-30T03:46:25.661772Z",
     "shell.execute_reply": "2024-12-30T03:46:25.660965Z",
     "shell.execute_reply.started": "2024-12-30T03:46:25.657902Z"
    },
    "papermill": {
     "duration": 0.945059,
     "end_time": "2023-07-01T23:36:45.537699",
     "exception": false,
     "start_time": "2023-07-01T23:36:44.592640",
     "status": "completed"
    },
    "tags": [],
    "trusted": true
   },
   "outputs": [],
   "source": [
    "early_stop=EarlyStopping(monitor='val_acc',mode='max',patience=3,restore_best_weights=True)\n",
    "lr_reduction=ReduceLROnPlateau(monitor='val_acc',patience=3,verbose=1,factor=0.5,min_lr=0.00001)"
   ]
  },
  {
   "cell_type": "markdown",
   "metadata": {},
   "source": [
    "**EarlyStopping**:\n",
    "\n",
    "- **EarlyStopping** là một callback dừng huấn luyện sớm nếu mô hình không cải thiện sau một số epoch nhất định. Điều này giúp tránh overfitting.\n",
    "- **monitor='val_acc'**: Theo dõi độ chính xác trên tập kiểm tra (val_acc).\n",
    "- **mode='max'**: Dừng khi giá trị val_acc không còn tăng nữa (tức là không cải thiện nữa).\n",
    "- **patience=3**: Nếu mô hình không cải thiện trong 3 epoch liên tiếp, quá trình huấn luyện sẽ dừng lại.\n",
    "- **restore_best_weights=True**: Khi dừng sớm, trọng số của mô hình sẽ được khôi phục lại từ epoch có độ chính xác tốt nhất.\n",
    "  \n",
    "**Ý nghĩa**: Callback này giúp dừng huấn luyện sớm để tránh overfitting và khôi phục lại trọng số của mô hình từ thời điểm tốt nhất.\n",
    "\n",
    "**ReduceLROnPlateau:**\n",
    "\n",
    "- **ReduceLROnPlateau** giảm tốc độ học (learning rate) nếu mô hình không cải thiện sau một số epoch nhất định.\n",
    "- **monitor='val_acc'**: Theo dõi độ chính xác trên tập kiểm tra (val_acc).\n",
    "- **patience=3**: Nếu mô hình không cải thiện trong 3 epoch liên tiếp, tốc độ học sẽ được giảm.\n",
    "- **verbose=1**: Hiển thị thông báo khi tốc độ học bị giảm.\n",
    "- **factor=0.5**: Giảm tốc độ học xuống một nửa khi không có sự cải thiện.\n",
    "- **min_lr=0.00001**: Đảm bảo rằng tốc độ học không giảm xuống dưới giá trị này.\n",
    "  \n",
    "**Ý nghĩa**: Callback này giúp giảm tốc độ học nếu mô hình không cải thiện, giúp tìm ra tốc độ học tốt hơn và tránh việc huấn luyện với tốc độ học quá lớn."
   ]
  },
  {
   "cell_type": "markdown",
   "metadata": {
    "papermill": {
     "duration": 3.316897,
     "end_time": "2023-07-02T01:07:19.201222",
     "exception": false,
     "start_time": "2023-07-02T01:07:15.884325",
     "status": "completed"
    },
    "tags": []
   },
   "source": [
    "# VGG Model"
   ]
  },
  {
   "cell_type": "code",
   "execution_count": 40,
   "metadata": {
    "execution": {
     "iopub.execute_input": "2024-12-31T03:28:37.516513Z",
     "iopub.status.busy": "2024-12-31T03:28:37.516195Z",
     "iopub.status.idle": "2024-12-31T03:28:40.517129Z",
     "shell.execute_reply": "2024-12-31T03:28:40.516221Z",
     "shell.execute_reply.started": "2024-12-31T03:28:37.516483Z"
    },
    "trusted": true
   },
   "outputs": [
    {
     "name": "stdout",
     "output_type": "stream",
     "text": [
      "x_train shape: (38918, 2376, 1), y_train shape: (38918, 7)\n",
      "x_test shape: (9730, 2376, 1), y_test shape: (9730, 7)\n"
     ]
    }
   ],
   "source": [
    "import pandas as pd\n",
    "import numpy as np\n",
    "from sklearn.preprocessing import StandardScaler, OneHotEncoder\n",
    "from sklearn.model_selection import train_test_split\n",
    "\n",
    "# Prepare the features and labels\n",
    "X = Emotions.iloc[: ,:-1].values\n",
    "Y = Emotions['Emotions'].values\n",
    "\n",
    "# One-hot encode the labels\n",
    "encoder = OneHotEncoder()\n",
    "Y = encoder.fit_transform(np.array(Y).reshape(-1,1)).toarray()\n",
    "\n",
    "# Split the dataset into training and testing sets\n",
    "x_train, x_test, y_train, y_test = train_test_split(X, Y, random_state=42,test_size=0.2, shuffle=True)\n",
    "\n",
    "# Standardize the features\n",
    "scaler = StandardScaler()\n",
    "x_train = scaler.fit_transform(x_train)\n",
    "x_test = scaler.transform(x_test)\n",
    "\n",
    "# Reshape the features for the VGG model\n",
    "x_train = np.expand_dims(x_train, axis=-1)  # Shape becomes (num_samples, num_features, 1)\n",
    "x_test = np.expand_dims(x_test, axis=-1)    # Shape becomes (num_samples, num_features, 1)\n",
    "\n",
    "print(f\"x_train shape: {x_train.shape}, y_train shape: {y_train.shape}\")\n",
    "print(f\"x_test shape: {x_test.shape}, y_test shape: {y_test.shape}\")"
   ]
  },
  {
   "cell_type": "code",
   "execution_count": 43,
   "metadata": {
    "execution": {
     "iopub.execute_input": "2024-12-31T03:30:30.488574Z",
     "iopub.status.busy": "2024-12-31T03:30:30.488263Z",
     "iopub.status.idle": "2024-12-31T03:30:30.967699Z",
     "shell.execute_reply": "2024-12-31T03:30:30.967061Z",
     "shell.execute_reply.started": "2024-12-31T03:30:30.488550Z"
    },
    "trusted": true
   },
   "outputs": [
    {
     "data": {
      "text/html": [
       "<pre style=\"white-space:pre;overflow-x:auto;line-height:normal;font-family:Menlo,'DejaVu Sans Mono',consolas,'Courier New',monospace\"><span style=\"font-weight: bold\">Model: \"sequential_11\"</span>\n",
       "</pre>\n"
      ],
      "text/plain": [
       "\u001b[1mModel: \"sequential_11\"\u001b[0m\n"
      ]
     },
     "metadata": {},
     "output_type": "display_data"
    },
    {
     "data": {
      "text/html": [
       "<pre style=\"white-space:pre;overflow-x:auto;line-height:normal;font-family:Menlo,'DejaVu Sans Mono',consolas,'Courier New',monospace\">┏━━━━━━━━━━━━━━━━━━━━━━━━━━━━━━━━━━━━━━┳━━━━━━━━━━━━━━━━━━━━━━━━━━━━━┳━━━━━━━━━━━━━━━━━┓\n",
       "┃<span style=\"font-weight: bold\"> Layer (type)                         </span>┃<span style=\"font-weight: bold\"> Output Shape                </span>┃<span style=\"font-weight: bold\">         Param # </span>┃\n",
       "┡━━━━━━━━━━━━━━━━━━━━━━━━━━━━━━━━━━━━━━╇━━━━━━━━━━━━━━━━━━━━━━━━━━━━━╇━━━━━━━━━━━━━━━━━┩\n",
       "│ conv2d_102 (<span style=\"color: #0087ff; text-decoration-color: #0087ff\">Conv2D</span>)                  │ (<span style=\"color: #00d7ff; text-decoration-color: #00d7ff\">None</span>, <span style=\"color: #00af00; text-decoration-color: #00af00\">2376</span>, <span style=\"color: #00af00; text-decoration-color: #00af00\">1</span>, <span style=\"color: #00af00; text-decoration-color: #00af00\">64</span>)         │             <span style=\"color: #00af00; text-decoration-color: #00af00\">640</span> │\n",
       "├──────────────────────────────────────┼─────────────────────────────┼─────────────────┤\n",
       "│ conv2d_103 (<span style=\"color: #0087ff; text-decoration-color: #0087ff\">Conv2D</span>)                  │ (<span style=\"color: #00d7ff; text-decoration-color: #00d7ff\">None</span>, <span style=\"color: #00af00; text-decoration-color: #00af00\">2376</span>, <span style=\"color: #00af00; text-decoration-color: #00af00\">1</span>, <span style=\"color: #00af00; text-decoration-color: #00af00\">64</span>)         │          <span style=\"color: #00af00; text-decoration-color: #00af00\">36,928</span> │\n",
       "├──────────────────────────────────────┼─────────────────────────────┼─────────────────┤\n",
       "│ max_pooling2d_40 (<span style=\"color: #0087ff; text-decoration-color: #0087ff\">MaxPooling2D</span>)      │ (<span style=\"color: #00d7ff; text-decoration-color: #00d7ff\">None</span>, <span style=\"color: #00af00; text-decoration-color: #00af00\">1188</span>, <span style=\"color: #00af00; text-decoration-color: #00af00\">1</span>, <span style=\"color: #00af00; text-decoration-color: #00af00\">64</span>)         │               <span style=\"color: #00af00; text-decoration-color: #00af00\">0</span> │\n",
       "├──────────────────────────────────────┼─────────────────────────────┼─────────────────┤\n",
       "│ batch_normalization_38               │ (<span style=\"color: #00d7ff; text-decoration-color: #00d7ff\">None</span>, <span style=\"color: #00af00; text-decoration-color: #00af00\">1188</span>, <span style=\"color: #00af00; text-decoration-color: #00af00\">1</span>, <span style=\"color: #00af00; text-decoration-color: #00af00\">64</span>)         │             <span style=\"color: #00af00; text-decoration-color: #00af00\">256</span> │\n",
       "│ (<span style=\"color: #0087ff; text-decoration-color: #0087ff\">BatchNormalization</span>)                 │                             │                 │\n",
       "├──────────────────────────────────────┼─────────────────────────────┼─────────────────┤\n",
       "│ conv2d_104 (<span style=\"color: #0087ff; text-decoration-color: #0087ff\">Conv2D</span>)                  │ (<span style=\"color: #00d7ff; text-decoration-color: #00d7ff\">None</span>, <span style=\"color: #00af00; text-decoration-color: #00af00\">1188</span>, <span style=\"color: #00af00; text-decoration-color: #00af00\">1</span>, <span style=\"color: #00af00; text-decoration-color: #00af00\">128</span>)        │          <span style=\"color: #00af00; text-decoration-color: #00af00\">73,856</span> │\n",
       "├──────────────────────────────────────┼─────────────────────────────┼─────────────────┤\n",
       "│ conv2d_105 (<span style=\"color: #0087ff; text-decoration-color: #0087ff\">Conv2D</span>)                  │ (<span style=\"color: #00d7ff; text-decoration-color: #00d7ff\">None</span>, <span style=\"color: #00af00; text-decoration-color: #00af00\">1188</span>, <span style=\"color: #00af00; text-decoration-color: #00af00\">1</span>, <span style=\"color: #00af00; text-decoration-color: #00af00\">128</span>)        │         <span style=\"color: #00af00; text-decoration-color: #00af00\">147,584</span> │\n",
       "├──────────────────────────────────────┼─────────────────────────────┼─────────────────┤\n",
       "│ max_pooling2d_41 (<span style=\"color: #0087ff; text-decoration-color: #0087ff\">MaxPooling2D</span>)      │ (<span style=\"color: #00d7ff; text-decoration-color: #00d7ff\">None</span>, <span style=\"color: #00af00; text-decoration-color: #00af00\">594</span>, <span style=\"color: #00af00; text-decoration-color: #00af00\">1</span>, <span style=\"color: #00af00; text-decoration-color: #00af00\">128</span>)         │               <span style=\"color: #00af00; text-decoration-color: #00af00\">0</span> │\n",
       "├──────────────────────────────────────┼─────────────────────────────┼─────────────────┤\n",
       "│ batch_normalization_39               │ (<span style=\"color: #00d7ff; text-decoration-color: #00d7ff\">None</span>, <span style=\"color: #00af00; text-decoration-color: #00af00\">594</span>, <span style=\"color: #00af00; text-decoration-color: #00af00\">1</span>, <span style=\"color: #00af00; text-decoration-color: #00af00\">128</span>)         │             <span style=\"color: #00af00; text-decoration-color: #00af00\">512</span> │\n",
       "│ (<span style=\"color: #0087ff; text-decoration-color: #0087ff\">BatchNormalization</span>)                 │                             │                 │\n",
       "├──────────────────────────────────────┼─────────────────────────────┼─────────────────┤\n",
       "│ conv2d_106 (<span style=\"color: #0087ff; text-decoration-color: #0087ff\">Conv2D</span>)                  │ (<span style=\"color: #00d7ff; text-decoration-color: #00d7ff\">None</span>, <span style=\"color: #00af00; text-decoration-color: #00af00\">594</span>, <span style=\"color: #00af00; text-decoration-color: #00af00\">1</span>, <span style=\"color: #00af00; text-decoration-color: #00af00\">256</span>)         │         <span style=\"color: #00af00; text-decoration-color: #00af00\">295,168</span> │\n",
       "├──────────────────────────────────────┼─────────────────────────────┼─────────────────┤\n",
       "│ conv2d_107 (<span style=\"color: #0087ff; text-decoration-color: #0087ff\">Conv2D</span>)                  │ (<span style=\"color: #00d7ff; text-decoration-color: #00d7ff\">None</span>, <span style=\"color: #00af00; text-decoration-color: #00af00\">594</span>, <span style=\"color: #00af00; text-decoration-color: #00af00\">1</span>, <span style=\"color: #00af00; text-decoration-color: #00af00\">256</span>)         │         <span style=\"color: #00af00; text-decoration-color: #00af00\">590,080</span> │\n",
       "├──────────────────────────────────────┼─────────────────────────────┼─────────────────┤\n",
       "│ conv2d_108 (<span style=\"color: #0087ff; text-decoration-color: #0087ff\">Conv2D</span>)                  │ (<span style=\"color: #00d7ff; text-decoration-color: #00d7ff\">None</span>, <span style=\"color: #00af00; text-decoration-color: #00af00\">594</span>, <span style=\"color: #00af00; text-decoration-color: #00af00\">1</span>, <span style=\"color: #00af00; text-decoration-color: #00af00\">256</span>)         │         <span style=\"color: #00af00; text-decoration-color: #00af00\">590,080</span> │\n",
       "├──────────────────────────────────────┼─────────────────────────────┼─────────────────┤\n",
       "│ max_pooling2d_42 (<span style=\"color: #0087ff; text-decoration-color: #0087ff\">MaxPooling2D</span>)      │ (<span style=\"color: #00d7ff; text-decoration-color: #00d7ff\">None</span>, <span style=\"color: #00af00; text-decoration-color: #00af00\">297</span>, <span style=\"color: #00af00; text-decoration-color: #00af00\">1</span>, <span style=\"color: #00af00; text-decoration-color: #00af00\">256</span>)         │               <span style=\"color: #00af00; text-decoration-color: #00af00\">0</span> │\n",
       "├──────────────────────────────────────┼─────────────────────────────┼─────────────────┤\n",
       "│ batch_normalization_40               │ (<span style=\"color: #00d7ff; text-decoration-color: #00d7ff\">None</span>, <span style=\"color: #00af00; text-decoration-color: #00af00\">297</span>, <span style=\"color: #00af00; text-decoration-color: #00af00\">1</span>, <span style=\"color: #00af00; text-decoration-color: #00af00\">256</span>)         │           <span style=\"color: #00af00; text-decoration-color: #00af00\">1,024</span> │\n",
       "│ (<span style=\"color: #0087ff; text-decoration-color: #0087ff\">BatchNormalization</span>)                 │                             │                 │\n",
       "├──────────────────────────────────────┼─────────────────────────────┼─────────────────┤\n",
       "│ conv2d_109 (<span style=\"color: #0087ff; text-decoration-color: #0087ff\">Conv2D</span>)                  │ (<span style=\"color: #00d7ff; text-decoration-color: #00d7ff\">None</span>, <span style=\"color: #00af00; text-decoration-color: #00af00\">297</span>, <span style=\"color: #00af00; text-decoration-color: #00af00\">1</span>, <span style=\"color: #00af00; text-decoration-color: #00af00\">512</span>)         │       <span style=\"color: #00af00; text-decoration-color: #00af00\">1,180,160</span> │\n",
       "├──────────────────────────────────────┼─────────────────────────────┼─────────────────┤\n",
       "│ conv2d_110 (<span style=\"color: #0087ff; text-decoration-color: #0087ff\">Conv2D</span>)                  │ (<span style=\"color: #00d7ff; text-decoration-color: #00d7ff\">None</span>, <span style=\"color: #00af00; text-decoration-color: #00af00\">297</span>, <span style=\"color: #00af00; text-decoration-color: #00af00\">1</span>, <span style=\"color: #00af00; text-decoration-color: #00af00\">512</span>)         │       <span style=\"color: #00af00; text-decoration-color: #00af00\">2,359,808</span> │\n",
       "├──────────────────────────────────────┼─────────────────────────────┼─────────────────┤\n",
       "│ conv2d_111 (<span style=\"color: #0087ff; text-decoration-color: #0087ff\">Conv2D</span>)                  │ (<span style=\"color: #00d7ff; text-decoration-color: #00d7ff\">None</span>, <span style=\"color: #00af00; text-decoration-color: #00af00\">297</span>, <span style=\"color: #00af00; text-decoration-color: #00af00\">1</span>, <span style=\"color: #00af00; text-decoration-color: #00af00\">512</span>)         │       <span style=\"color: #00af00; text-decoration-color: #00af00\">2,359,808</span> │\n",
       "├──────────────────────────────────────┼─────────────────────────────┼─────────────────┤\n",
       "│ max_pooling2d_43 (<span style=\"color: #0087ff; text-decoration-color: #0087ff\">MaxPooling2D</span>)      │ (<span style=\"color: #00d7ff; text-decoration-color: #00d7ff\">None</span>, <span style=\"color: #00af00; text-decoration-color: #00af00\">148</span>, <span style=\"color: #00af00; text-decoration-color: #00af00\">1</span>, <span style=\"color: #00af00; text-decoration-color: #00af00\">512</span>)         │               <span style=\"color: #00af00; text-decoration-color: #00af00\">0</span> │\n",
       "├──────────────────────────────────────┼─────────────────────────────┼─────────────────┤\n",
       "│ batch_normalization_41               │ (<span style=\"color: #00d7ff; text-decoration-color: #00d7ff\">None</span>, <span style=\"color: #00af00; text-decoration-color: #00af00\">148</span>, <span style=\"color: #00af00; text-decoration-color: #00af00\">1</span>, <span style=\"color: #00af00; text-decoration-color: #00af00\">512</span>)         │           <span style=\"color: #00af00; text-decoration-color: #00af00\">2,048</span> │\n",
       "│ (<span style=\"color: #0087ff; text-decoration-color: #0087ff\">BatchNormalization</span>)                 │                             │                 │\n",
       "├──────────────────────────────────────┼─────────────────────────────┼─────────────────┤\n",
       "│ conv2d_112 (<span style=\"color: #0087ff; text-decoration-color: #0087ff\">Conv2D</span>)                  │ (<span style=\"color: #00d7ff; text-decoration-color: #00d7ff\">None</span>, <span style=\"color: #00af00; text-decoration-color: #00af00\">148</span>, <span style=\"color: #00af00; text-decoration-color: #00af00\">1</span>, <span style=\"color: #00af00; text-decoration-color: #00af00\">512</span>)         │       <span style=\"color: #00af00; text-decoration-color: #00af00\">2,359,808</span> │\n",
       "├──────────────────────────────────────┼─────────────────────────────┼─────────────────┤\n",
       "│ conv2d_113 (<span style=\"color: #0087ff; text-decoration-color: #0087ff\">Conv2D</span>)                  │ (<span style=\"color: #00d7ff; text-decoration-color: #00d7ff\">None</span>, <span style=\"color: #00af00; text-decoration-color: #00af00\">148</span>, <span style=\"color: #00af00; text-decoration-color: #00af00\">1</span>, <span style=\"color: #00af00; text-decoration-color: #00af00\">512</span>)         │       <span style=\"color: #00af00; text-decoration-color: #00af00\">2,359,808</span> │\n",
       "├──────────────────────────────────────┼─────────────────────────────┼─────────────────┤\n",
       "│ conv2d_114 (<span style=\"color: #0087ff; text-decoration-color: #0087ff\">Conv2D</span>)                  │ (<span style=\"color: #00d7ff; text-decoration-color: #00d7ff\">None</span>, <span style=\"color: #00af00; text-decoration-color: #00af00\">148</span>, <span style=\"color: #00af00; text-decoration-color: #00af00\">1</span>, <span style=\"color: #00af00; text-decoration-color: #00af00\">512</span>)         │       <span style=\"color: #00af00; text-decoration-color: #00af00\">2,359,808</span> │\n",
       "├──────────────────────────────────────┼─────────────────────────────┼─────────────────┤\n",
       "│ max_pooling2d_44 (<span style=\"color: #0087ff; text-decoration-color: #0087ff\">MaxPooling2D</span>)      │ (<span style=\"color: #00d7ff; text-decoration-color: #00d7ff\">None</span>, <span style=\"color: #00af00; text-decoration-color: #00af00\">74</span>, <span style=\"color: #00af00; text-decoration-color: #00af00\">1</span>, <span style=\"color: #00af00; text-decoration-color: #00af00\">512</span>)          │               <span style=\"color: #00af00; text-decoration-color: #00af00\">0</span> │\n",
       "├──────────────────────────────────────┼─────────────────────────────┼─────────────────┤\n",
       "│ batch_normalization_42               │ (<span style=\"color: #00d7ff; text-decoration-color: #00d7ff\">None</span>, <span style=\"color: #00af00; text-decoration-color: #00af00\">74</span>, <span style=\"color: #00af00; text-decoration-color: #00af00\">1</span>, <span style=\"color: #00af00; text-decoration-color: #00af00\">512</span>)          │           <span style=\"color: #00af00; text-decoration-color: #00af00\">2,048</span> │\n",
       "│ (<span style=\"color: #0087ff; text-decoration-color: #0087ff\">BatchNormalization</span>)                 │                             │                 │\n",
       "├──────────────────────────────────────┼─────────────────────────────┼─────────────────┤\n",
       "│ flatten_8 (<span style=\"color: #0087ff; text-decoration-color: #0087ff\">Flatten</span>)                  │ (<span style=\"color: #00d7ff; text-decoration-color: #00d7ff\">None</span>, <span style=\"color: #00af00; text-decoration-color: #00af00\">37888</span>)               │               <span style=\"color: #00af00; text-decoration-color: #00af00\">0</span> │\n",
       "├──────────────────────────────────────┼─────────────────────────────┼─────────────────┤\n",
       "│ dense_24 (<span style=\"color: #0087ff; text-decoration-color: #0087ff\">Dense</span>)                     │ (<span style=\"color: #00d7ff; text-decoration-color: #00d7ff\">None</span>, <span style=\"color: #00af00; text-decoration-color: #00af00\">4096</span>)                │     <span style=\"color: #00af00; text-decoration-color: #00af00\">155,193,344</span> │\n",
       "├──────────────────────────────────────┼─────────────────────────────┼─────────────────┤\n",
       "│ dropout_16 (<span style=\"color: #0087ff; text-decoration-color: #0087ff\">Dropout</span>)                 │ (<span style=\"color: #00d7ff; text-decoration-color: #00d7ff\">None</span>, <span style=\"color: #00af00; text-decoration-color: #00af00\">4096</span>)                │               <span style=\"color: #00af00; text-decoration-color: #00af00\">0</span> │\n",
       "├──────────────────────────────────────┼─────────────────────────────┼─────────────────┤\n",
       "│ dense_25 (<span style=\"color: #0087ff; text-decoration-color: #0087ff\">Dense</span>)                     │ (<span style=\"color: #00d7ff; text-decoration-color: #00d7ff\">None</span>, <span style=\"color: #00af00; text-decoration-color: #00af00\">4096</span>)                │      <span style=\"color: #00af00; text-decoration-color: #00af00\">16,781,312</span> │\n",
       "├──────────────────────────────────────┼─────────────────────────────┼─────────────────┤\n",
       "│ dropout_17 (<span style=\"color: #0087ff; text-decoration-color: #0087ff\">Dropout</span>)                 │ (<span style=\"color: #00d7ff; text-decoration-color: #00d7ff\">None</span>, <span style=\"color: #00af00; text-decoration-color: #00af00\">4096</span>)                │               <span style=\"color: #00af00; text-decoration-color: #00af00\">0</span> │\n",
       "├──────────────────────────────────────┼─────────────────────────────┼─────────────────┤\n",
       "│ dense_26 (<span style=\"color: #0087ff; text-decoration-color: #0087ff\">Dense</span>)                     │ (<span style=\"color: #00d7ff; text-decoration-color: #00d7ff\">None</span>, <span style=\"color: #00af00; text-decoration-color: #00af00\">7</span>)                   │          <span style=\"color: #00af00; text-decoration-color: #00af00\">28,679</span> │\n",
       "└──────────────────────────────────────┴─────────────────────────────┴─────────────────┘\n",
       "</pre>\n"
      ],
      "text/plain": [
       "┏━━━━━━━━━━━━━━━━━━━━━━━━━━━━━━━━━━━━━━┳━━━━━━━━━━━━━━━━━━━━━━━━━━━━━┳━━━━━━━━━━━━━━━━━┓\n",
       "┃\u001b[1m \u001b[0m\u001b[1mLayer (type)                        \u001b[0m\u001b[1m \u001b[0m┃\u001b[1m \u001b[0m\u001b[1mOutput Shape               \u001b[0m\u001b[1m \u001b[0m┃\u001b[1m \u001b[0m\u001b[1m        Param #\u001b[0m\u001b[1m \u001b[0m┃\n",
       "┡━━━━━━━━━━━━━━━━━━━━━━━━━━━━━━━━━━━━━━╇━━━━━━━━━━━━━━━━━━━━━━━━━━━━━╇━━━━━━━━━━━━━━━━━┩\n",
       "│ conv2d_102 (\u001b[38;5;33mConv2D\u001b[0m)                  │ (\u001b[38;5;45mNone\u001b[0m, \u001b[38;5;34m2376\u001b[0m, \u001b[38;5;34m1\u001b[0m, \u001b[38;5;34m64\u001b[0m)         │             \u001b[38;5;34m640\u001b[0m │\n",
       "├──────────────────────────────────────┼─────────────────────────────┼─────────────────┤\n",
       "│ conv2d_103 (\u001b[38;5;33mConv2D\u001b[0m)                  │ (\u001b[38;5;45mNone\u001b[0m, \u001b[38;5;34m2376\u001b[0m, \u001b[38;5;34m1\u001b[0m, \u001b[38;5;34m64\u001b[0m)         │          \u001b[38;5;34m36,928\u001b[0m │\n",
       "├──────────────────────────────────────┼─────────────────────────────┼─────────────────┤\n",
       "│ max_pooling2d_40 (\u001b[38;5;33mMaxPooling2D\u001b[0m)      │ (\u001b[38;5;45mNone\u001b[0m, \u001b[38;5;34m1188\u001b[0m, \u001b[38;5;34m1\u001b[0m, \u001b[38;5;34m64\u001b[0m)         │               \u001b[38;5;34m0\u001b[0m │\n",
       "├──────────────────────────────────────┼─────────────────────────────┼─────────────────┤\n",
       "│ batch_normalization_38               │ (\u001b[38;5;45mNone\u001b[0m, \u001b[38;5;34m1188\u001b[0m, \u001b[38;5;34m1\u001b[0m, \u001b[38;5;34m64\u001b[0m)         │             \u001b[38;5;34m256\u001b[0m │\n",
       "│ (\u001b[38;5;33mBatchNormalization\u001b[0m)                 │                             │                 │\n",
       "├──────────────────────────────────────┼─────────────────────────────┼─────────────────┤\n",
       "│ conv2d_104 (\u001b[38;5;33mConv2D\u001b[0m)                  │ (\u001b[38;5;45mNone\u001b[0m, \u001b[38;5;34m1188\u001b[0m, \u001b[38;5;34m1\u001b[0m, \u001b[38;5;34m128\u001b[0m)        │          \u001b[38;5;34m73,856\u001b[0m │\n",
       "├──────────────────────────────────────┼─────────────────────────────┼─────────────────┤\n",
       "│ conv2d_105 (\u001b[38;5;33mConv2D\u001b[0m)                  │ (\u001b[38;5;45mNone\u001b[0m, \u001b[38;5;34m1188\u001b[0m, \u001b[38;5;34m1\u001b[0m, \u001b[38;5;34m128\u001b[0m)        │         \u001b[38;5;34m147,584\u001b[0m │\n",
       "├──────────────────────────────────────┼─────────────────────────────┼─────────────────┤\n",
       "│ max_pooling2d_41 (\u001b[38;5;33mMaxPooling2D\u001b[0m)      │ (\u001b[38;5;45mNone\u001b[0m, \u001b[38;5;34m594\u001b[0m, \u001b[38;5;34m1\u001b[0m, \u001b[38;5;34m128\u001b[0m)         │               \u001b[38;5;34m0\u001b[0m │\n",
       "├──────────────────────────────────────┼─────────────────────────────┼─────────────────┤\n",
       "│ batch_normalization_39               │ (\u001b[38;5;45mNone\u001b[0m, \u001b[38;5;34m594\u001b[0m, \u001b[38;5;34m1\u001b[0m, \u001b[38;5;34m128\u001b[0m)         │             \u001b[38;5;34m512\u001b[0m │\n",
       "│ (\u001b[38;5;33mBatchNormalization\u001b[0m)                 │                             │                 │\n",
       "├──────────────────────────────────────┼─────────────────────────────┼─────────────────┤\n",
       "│ conv2d_106 (\u001b[38;5;33mConv2D\u001b[0m)                  │ (\u001b[38;5;45mNone\u001b[0m, \u001b[38;5;34m594\u001b[0m, \u001b[38;5;34m1\u001b[0m, \u001b[38;5;34m256\u001b[0m)         │         \u001b[38;5;34m295,168\u001b[0m │\n",
       "├──────────────────────────────────────┼─────────────────────────────┼─────────────────┤\n",
       "│ conv2d_107 (\u001b[38;5;33mConv2D\u001b[0m)                  │ (\u001b[38;5;45mNone\u001b[0m, \u001b[38;5;34m594\u001b[0m, \u001b[38;5;34m1\u001b[0m, \u001b[38;5;34m256\u001b[0m)         │         \u001b[38;5;34m590,080\u001b[0m │\n",
       "├──────────────────────────────────────┼─────────────────────────────┼─────────────────┤\n",
       "│ conv2d_108 (\u001b[38;5;33mConv2D\u001b[0m)                  │ (\u001b[38;5;45mNone\u001b[0m, \u001b[38;5;34m594\u001b[0m, \u001b[38;5;34m1\u001b[0m, \u001b[38;5;34m256\u001b[0m)         │         \u001b[38;5;34m590,080\u001b[0m │\n",
       "├──────────────────────────────────────┼─────────────────────────────┼─────────────────┤\n",
       "│ max_pooling2d_42 (\u001b[38;5;33mMaxPooling2D\u001b[0m)      │ (\u001b[38;5;45mNone\u001b[0m, \u001b[38;5;34m297\u001b[0m, \u001b[38;5;34m1\u001b[0m, \u001b[38;5;34m256\u001b[0m)         │               \u001b[38;5;34m0\u001b[0m │\n",
       "├──────────────────────────────────────┼─────────────────────────────┼─────────────────┤\n",
       "│ batch_normalization_40               │ (\u001b[38;5;45mNone\u001b[0m, \u001b[38;5;34m297\u001b[0m, \u001b[38;5;34m1\u001b[0m, \u001b[38;5;34m256\u001b[0m)         │           \u001b[38;5;34m1,024\u001b[0m │\n",
       "│ (\u001b[38;5;33mBatchNormalization\u001b[0m)                 │                             │                 │\n",
       "├──────────────────────────────────────┼─────────────────────────────┼─────────────────┤\n",
       "│ conv2d_109 (\u001b[38;5;33mConv2D\u001b[0m)                  │ (\u001b[38;5;45mNone\u001b[0m, \u001b[38;5;34m297\u001b[0m, \u001b[38;5;34m1\u001b[0m, \u001b[38;5;34m512\u001b[0m)         │       \u001b[38;5;34m1,180,160\u001b[0m │\n",
       "├──────────────────────────────────────┼─────────────────────────────┼─────────────────┤\n",
       "│ conv2d_110 (\u001b[38;5;33mConv2D\u001b[0m)                  │ (\u001b[38;5;45mNone\u001b[0m, \u001b[38;5;34m297\u001b[0m, \u001b[38;5;34m1\u001b[0m, \u001b[38;5;34m512\u001b[0m)         │       \u001b[38;5;34m2,359,808\u001b[0m │\n",
       "├──────────────────────────────────────┼─────────────────────────────┼─────────────────┤\n",
       "│ conv2d_111 (\u001b[38;5;33mConv2D\u001b[0m)                  │ (\u001b[38;5;45mNone\u001b[0m, \u001b[38;5;34m297\u001b[0m, \u001b[38;5;34m1\u001b[0m, \u001b[38;5;34m512\u001b[0m)         │       \u001b[38;5;34m2,359,808\u001b[0m │\n",
       "├──────────────────────────────────────┼─────────────────────────────┼─────────────────┤\n",
       "│ max_pooling2d_43 (\u001b[38;5;33mMaxPooling2D\u001b[0m)      │ (\u001b[38;5;45mNone\u001b[0m, \u001b[38;5;34m148\u001b[0m, \u001b[38;5;34m1\u001b[0m, \u001b[38;5;34m512\u001b[0m)         │               \u001b[38;5;34m0\u001b[0m │\n",
       "├──────────────────────────────────────┼─────────────────────────────┼─────────────────┤\n",
       "│ batch_normalization_41               │ (\u001b[38;5;45mNone\u001b[0m, \u001b[38;5;34m148\u001b[0m, \u001b[38;5;34m1\u001b[0m, \u001b[38;5;34m512\u001b[0m)         │           \u001b[38;5;34m2,048\u001b[0m │\n",
       "│ (\u001b[38;5;33mBatchNormalization\u001b[0m)                 │                             │                 │\n",
       "├──────────────────────────────────────┼─────────────────────────────┼─────────────────┤\n",
       "│ conv2d_112 (\u001b[38;5;33mConv2D\u001b[0m)                  │ (\u001b[38;5;45mNone\u001b[0m, \u001b[38;5;34m148\u001b[0m, \u001b[38;5;34m1\u001b[0m, \u001b[38;5;34m512\u001b[0m)         │       \u001b[38;5;34m2,359,808\u001b[0m │\n",
       "├──────────────────────────────────────┼─────────────────────────────┼─────────────────┤\n",
       "│ conv2d_113 (\u001b[38;5;33mConv2D\u001b[0m)                  │ (\u001b[38;5;45mNone\u001b[0m, \u001b[38;5;34m148\u001b[0m, \u001b[38;5;34m1\u001b[0m, \u001b[38;5;34m512\u001b[0m)         │       \u001b[38;5;34m2,359,808\u001b[0m │\n",
       "├──────────────────────────────────────┼─────────────────────────────┼─────────────────┤\n",
       "│ conv2d_114 (\u001b[38;5;33mConv2D\u001b[0m)                  │ (\u001b[38;5;45mNone\u001b[0m, \u001b[38;5;34m148\u001b[0m, \u001b[38;5;34m1\u001b[0m, \u001b[38;5;34m512\u001b[0m)         │       \u001b[38;5;34m2,359,808\u001b[0m │\n",
       "├──────────────────────────────────────┼─────────────────────────────┼─────────────────┤\n",
       "│ max_pooling2d_44 (\u001b[38;5;33mMaxPooling2D\u001b[0m)      │ (\u001b[38;5;45mNone\u001b[0m, \u001b[38;5;34m74\u001b[0m, \u001b[38;5;34m1\u001b[0m, \u001b[38;5;34m512\u001b[0m)          │               \u001b[38;5;34m0\u001b[0m │\n",
       "├──────────────────────────────────────┼─────────────────────────────┼─────────────────┤\n",
       "│ batch_normalization_42               │ (\u001b[38;5;45mNone\u001b[0m, \u001b[38;5;34m74\u001b[0m, \u001b[38;5;34m1\u001b[0m, \u001b[38;5;34m512\u001b[0m)          │           \u001b[38;5;34m2,048\u001b[0m │\n",
       "│ (\u001b[38;5;33mBatchNormalization\u001b[0m)                 │                             │                 │\n",
       "├──────────────────────────────────────┼─────────────────────────────┼─────────────────┤\n",
       "│ flatten_8 (\u001b[38;5;33mFlatten\u001b[0m)                  │ (\u001b[38;5;45mNone\u001b[0m, \u001b[38;5;34m37888\u001b[0m)               │               \u001b[38;5;34m0\u001b[0m │\n",
       "├──────────────────────────────────────┼─────────────────────────────┼─────────────────┤\n",
       "│ dense_24 (\u001b[38;5;33mDense\u001b[0m)                     │ (\u001b[38;5;45mNone\u001b[0m, \u001b[38;5;34m4096\u001b[0m)                │     \u001b[38;5;34m155,193,344\u001b[0m │\n",
       "├──────────────────────────────────────┼─────────────────────────────┼─────────────────┤\n",
       "│ dropout_16 (\u001b[38;5;33mDropout\u001b[0m)                 │ (\u001b[38;5;45mNone\u001b[0m, \u001b[38;5;34m4096\u001b[0m)                │               \u001b[38;5;34m0\u001b[0m │\n",
       "├──────────────────────────────────────┼─────────────────────────────┼─────────────────┤\n",
       "│ dense_25 (\u001b[38;5;33mDense\u001b[0m)                     │ (\u001b[38;5;45mNone\u001b[0m, \u001b[38;5;34m4096\u001b[0m)                │      \u001b[38;5;34m16,781,312\u001b[0m │\n",
       "├──────────────────────────────────────┼─────────────────────────────┼─────────────────┤\n",
       "│ dropout_17 (\u001b[38;5;33mDropout\u001b[0m)                 │ (\u001b[38;5;45mNone\u001b[0m, \u001b[38;5;34m4096\u001b[0m)                │               \u001b[38;5;34m0\u001b[0m │\n",
       "├──────────────────────────────────────┼─────────────────────────────┼─────────────────┤\n",
       "│ dense_26 (\u001b[38;5;33mDense\u001b[0m)                     │ (\u001b[38;5;45mNone\u001b[0m, \u001b[38;5;34m7\u001b[0m)                   │          \u001b[38;5;34m28,679\u001b[0m │\n",
       "└──────────────────────────────────────┴─────────────────────────────┴─────────────────┘\n"
      ]
     },
     "metadata": {},
     "output_type": "display_data"
    },
    {
     "data": {
      "text/html": [
       "<pre style=\"white-space:pre;overflow-x:auto;line-height:normal;font-family:Menlo,'DejaVu Sans Mono',consolas,'Courier New',monospace\"><span style=\"font-weight: bold\"> Total params: </span><span style=\"color: #00af00; text-decoration-color: #00af00\">186,722,759</span> (712.29 MB)\n",
       "</pre>\n"
      ],
      "text/plain": [
       "\u001b[1m Total params: \u001b[0m\u001b[38;5;34m186,722,759\u001b[0m (712.29 MB)\n"
      ]
     },
     "metadata": {},
     "output_type": "display_data"
    },
    {
     "data": {
      "text/html": [
       "<pre style=\"white-space:pre;overflow-x:auto;line-height:normal;font-family:Menlo,'DejaVu Sans Mono',consolas,'Courier New',monospace\"><span style=\"font-weight: bold\"> Trainable params: </span><span style=\"color: #00af00; text-decoration-color: #00af00\">186,719,815</span> (712.28 MB)\n",
       "</pre>\n"
      ],
      "text/plain": [
       "\u001b[1m Trainable params: \u001b[0m\u001b[38;5;34m186,719,815\u001b[0m (712.28 MB)\n"
      ]
     },
     "metadata": {},
     "output_type": "display_data"
    },
    {
     "data": {
      "text/html": [
       "<pre style=\"white-space:pre;overflow-x:auto;line-height:normal;font-family:Menlo,'DejaVu Sans Mono',consolas,'Courier New',monospace\"><span style=\"font-weight: bold\"> Non-trainable params: </span><span style=\"color: #00af00; text-decoration-color: #00af00\">2,944</span> (11.50 KB)\n",
       "</pre>\n"
      ],
      "text/plain": [
       "\u001b[1m Non-trainable params: \u001b[0m\u001b[38;5;34m2,944\u001b[0m (11.50 KB)\n"
      ]
     },
     "metadata": {},
     "output_type": "display_data"
    }
   ],
   "source": [
    "from tensorflow.keras.models import Sequential\n",
    "from tensorflow.keras.layers import Conv2D, MaxPooling2D, Flatten, Dense, Dropout, BatchNormalization, Input\n",
    "\n",
    "def build_vgg_model(input_shape, num_classes):\n",
    "    model = Sequential()\n",
    "\n",
    "    # Input layer\n",
    "    model.add(Input(shape=input_shape))\n",
    "\n",
    "    # Block 1\n",
    "    model.add(Conv2D(64, (3, 3), activation='relu', padding='same'))\n",
    "    model.add(Conv2D(64, (3, 3), activation='relu', padding='same'))\n",
    "    model.add(MaxPooling2D((2, 1), strides=(2, 1)))  # Adjusted pooling\n",
    "    model.add(BatchNormalization())\n",
    "\n",
    "    # Block 2\n",
    "    model.add(Conv2D(128, (3, 3), activation='relu', padding='same'))\n",
    "    model.add(Conv2D(128, (3, 3), activation='relu', padding='same'))\n",
    "    model.add(MaxPooling2D((2, 1), strides=(2, 1)))  # Adjusted pooling\n",
    "    model.add(BatchNormalization())\n",
    "\n",
    "    # Block 3\n",
    "    model.add(Conv2D(256, (3, 3), activation='relu', padding='same'))\n",
    "    model.add(Conv2D(256, (3, 3), activation='relu', padding='same'))\n",
    "    model.add(Conv2D(256, (3, 3), activation='relu', padding='same'))\n",
    "    model.add(MaxPooling2D((2, 1), strides=(2, 1)))  # Adjusted pooling\n",
    "    model.add(BatchNormalization())\n",
    "\n",
    "    # Block 4\n",
    "    model.add(Conv2D(512, (3, 3), activation='relu', padding='same'))\n",
    "    model.add(Conv2D(512, (3, 3), activation='relu', padding='same'))\n",
    "    model.add(Conv2D(512, (3, 3), activation='relu', padding='same'))\n",
    "    model.add(MaxPooling2D((2, 1), strides=(2, 1)))  # Adjusted pooling\n",
    "    model.add(BatchNormalization())\n",
    "\n",
    "    # Block 5\n",
    "    model.add(Conv2D(512, (3, 3), activation='relu', padding='same'))\n",
    "    model.add(Conv2D(512, (3, 3), activation='relu', padding='same'))\n",
    "    model.add(Conv2D(512, (3, 3), activation='relu', padding='same'))\n",
    "    model.add(MaxPooling2D((2, 1), strides=(2, 1)))  # Adjusted pooling\n",
    "    model.add(BatchNormalization())\n",
    "\n",
    "    # Fully connected layers\n",
    "    model.add(Flatten())\n",
    "    model.add(Dense(4096, activation='relu'))\n",
    "    model.add(Dropout(0.5))\n",
    "    model.add(Dense(4096, activation='relu'))\n",
    "    model.add(Dropout(0.5))\n",
    "    model.add(Dense(num_classes, activation='softmax'))\n",
    "\n",
    "    return model\n",
    "\n",
    "# Build the model\n",
    "input_shape = (x_train.shape[1], x_train.shape[2], 1)\n",
    "num_classes = y_train.shape[1]\n",
    "model = build_vgg_model(input_shape, num_classes)\n",
    "\n",
    "# Compile the model\n",
    "model.compile(optimizer='adam', loss='categorical_crossentropy', metrics=['accuracy'])\n",
    "model.summary()"
   ]
  },
  {
   "cell_type": "code",
   "execution_count": 44,
   "metadata": {
    "execution": {
     "iopub.execute_input": "2024-12-31T03:30:34.211633Z",
     "iopub.status.busy": "2024-12-31T03:30:34.211313Z",
     "iopub.status.idle": "2024-12-31T04:35:03.636923Z",
     "shell.execute_reply": "2024-12-31T04:35:03.636178Z",
     "shell.execute_reply.started": "2024-12-31T03:30:34.211587Z"
    },
    "trusted": true
   },
   "outputs": [
    {
     "name": "stdout",
     "output_type": "stream",
     "text": [
      "Epoch 1/20\n",
      "\u001b[1m305/305\u001b[0m \u001b[32m━━━━━━━━━━━━━━━━━━━━\u001b[0m\u001b[37m\u001b[0m \u001b[1m255s\u001b[0m 731ms/step - accuracy: 0.2197 - loss: 5.1548 - val_accuracy: 0.1659 - val_loss: 7.7332\n",
      "Epoch 2/20\n",
      "\u001b[1m305/305\u001b[0m \u001b[32m━━━━━━━━━━━━━━━━━━━━\u001b[0m\u001b[37m\u001b[0m \u001b[1m191s\u001b[0m 625ms/step - accuracy: 0.3703 - loss: 1.6014 - val_accuracy: 0.2508 - val_loss: 1.7839\n",
      "Epoch 3/20\n",
      "\u001b[1m305/305\u001b[0m \u001b[32m━━━━━━━━━━━━━━━━━━━━\u001b[0m\u001b[37m\u001b[0m \u001b[1m190s\u001b[0m 625ms/step - accuracy: 0.4242 - loss: 1.4530 - val_accuracy: 0.4690 - val_loss: 1.3403\n",
      "Epoch 4/20\n",
      "\u001b[1m305/305\u001b[0m \u001b[32m━━━━━━━━━━━━━━━━━━━━\u001b[0m\u001b[37m\u001b[0m \u001b[1m190s\u001b[0m 622ms/step - accuracy: 0.4805 - loss: 1.3307 - val_accuracy: 0.4592 - val_loss: 1.3662\n",
      "Epoch 5/20\n",
      "\u001b[1m305/305\u001b[0m \u001b[32m━━━━━━━━━━━━━━━━━━━━\u001b[0m\u001b[37m\u001b[0m \u001b[1m191s\u001b[0m 625ms/step - accuracy: 0.5066 - loss: 1.2608 - val_accuracy: 0.5539 - val_loss: 1.1534\n",
      "Epoch 6/20\n",
      "\u001b[1m305/305\u001b[0m \u001b[32m━━━━━━━━━━━━━━━━━━━━\u001b[0m\u001b[37m\u001b[0m \u001b[1m190s\u001b[0m 623ms/step - accuracy: 0.5367 - loss: 1.1935 - val_accuracy: 0.5467 - val_loss: 1.1562\n",
      "Epoch 7/20\n",
      "\u001b[1m305/305\u001b[0m \u001b[32m━━━━━━━━━━━━━━━━━━━━\u001b[0m\u001b[37m\u001b[0m \u001b[1m190s\u001b[0m 622ms/step - accuracy: 0.5441 - loss: 1.1823 - val_accuracy: 0.4835 - val_loss: 1.2627\n",
      "Epoch 8/20\n",
      "\u001b[1m305/305\u001b[0m \u001b[32m━━━━━━━━━━━━━━━━━━━━\u001b[0m\u001b[37m\u001b[0m \u001b[1m191s\u001b[0m 625ms/step - accuracy: 0.5858 - loss: 1.0773 - val_accuracy: 0.5871 - val_loss: 1.1186\n",
      "Epoch 9/20\n",
      "\u001b[1m305/305\u001b[0m \u001b[32m━━━━━━━━━━━━━━━━━━━━\u001b[0m\u001b[37m\u001b[0m \u001b[1m190s\u001b[0m 622ms/step - accuracy: 0.6047 - loss: 1.0514 - val_accuracy: 0.5709 - val_loss: 1.1434\n",
      "Epoch 10/20\n",
      "\u001b[1m305/305\u001b[0m \u001b[32m━━━━━━━━━━━━━━━━━━━━\u001b[0m\u001b[37m\u001b[0m \u001b[1m191s\u001b[0m 625ms/step - accuracy: 0.6328 - loss: 0.9686 - val_accuracy: 0.6321 - val_loss: 0.9473\n",
      "Epoch 11/20\n",
      "\u001b[1m305/305\u001b[0m \u001b[32m━━━━━━━━━━━━━━━━━━━━\u001b[0m\u001b[37m\u001b[0m \u001b[1m190s\u001b[0m 622ms/step - accuracy: 0.6993 - loss: 0.8103 - val_accuracy: 0.5113 - val_loss: 1.6685\n",
      "Epoch 12/20\n",
      "\u001b[1m305/305\u001b[0m \u001b[32m━━━━━━━━━━━━━━━━━━━━\u001b[0m\u001b[37m\u001b[0m \u001b[1m190s\u001b[0m 624ms/step - accuracy: 0.6616 - loss: 0.9199 - val_accuracy: 0.6942 - val_loss: 0.8178\n",
      "Epoch 13/20\n",
      "\u001b[1m305/305\u001b[0m \u001b[32m━━━━━━━━━━━━━━━━━━━━\u001b[0m\u001b[37m\u001b[0m \u001b[1m190s\u001b[0m 625ms/step - accuracy: 0.7454 - loss: 0.7113 - val_accuracy: 0.7263 - val_loss: 0.7365\n",
      "Epoch 14/20\n",
      "\u001b[1m305/305\u001b[0m \u001b[32m━━━━━━━━━━━━━━━━━━━━\u001b[0m\u001b[37m\u001b[0m \u001b[1m190s\u001b[0m 622ms/step - accuracy: 0.8040 - loss: 0.5417 - val_accuracy: 0.7370 - val_loss: 0.7392\n",
      "Epoch 15/20\n",
      "\u001b[1m305/305\u001b[0m \u001b[32m━━━━━━━━━━━━━━━━━━━━\u001b[0m\u001b[37m\u001b[0m \u001b[1m190s\u001b[0m 625ms/step - accuracy: 0.8117 - loss: 0.5418 - val_accuracy: 0.7712 - val_loss: 0.6497\n",
      "Epoch 16/20\n",
      "\u001b[1m305/305\u001b[0m \u001b[32m━━━━━━━━━━━━━━━━━━━━\u001b[0m\u001b[37m\u001b[0m \u001b[1m190s\u001b[0m 621ms/step - accuracy: 0.8318 - loss: 0.5027 - val_accuracy: 0.7712 - val_loss: 0.6817\n",
      "Epoch 17/20\n",
      "\u001b[1m305/305\u001b[0m \u001b[32m━━━━━━━━━━━━━━━━━━━━\u001b[0m\u001b[37m\u001b[0m \u001b[1m190s\u001b[0m 624ms/step - accuracy: 0.8635 - loss: 0.4000 - val_accuracy: 0.8610 - val_loss: 0.4050\n",
      "Epoch 18/20\n",
      "\u001b[1m305/305\u001b[0m \u001b[32m━━━━━━━━━━━━━━━━━━━━\u001b[0m\u001b[37m\u001b[0m \u001b[1m190s\u001b[0m 622ms/step - accuracy: 0.8891 - loss: 0.3274 - val_accuracy: 0.7699 - val_loss: 0.6967\n",
      "Epoch 19/20\n",
      "\u001b[1m305/305\u001b[0m \u001b[32m━━━━━━━━━━━━━━━━━━━━\u001b[0m\u001b[37m\u001b[0m \u001b[1m191s\u001b[0m 625ms/step - accuracy: 0.8863 - loss: 0.3408 - val_accuracy: 0.8783 - val_loss: 0.3907\n",
      "Epoch 20/20\n",
      "\u001b[1m305/305\u001b[0m \u001b[32m━━━━━━━━━━━━━━━━━━━━\u001b[0m\u001b[37m\u001b[0m \u001b[1m189s\u001b[0m 621ms/step - accuracy: 0.9145 - loss: 0.2498 - val_accuracy: 0.8647 - val_loss: 0.3978\n"
     ]
    }
   ],
   "source": [
    "from tensorflow.keras.callbacks import ModelCheckpoint, EarlyStopping\n",
    "\n",
    "checkpoint = ModelCheckpoint('best_model1_weights.keras', monitor='val_loss', save_best_only=True, mode='max')\n",
    "early_stopping = EarlyStopping(monitor='val_loss', patience=3, restore_best_weights=True)\n",
    "\n",
    "# Train the model\n",
    "history = model.fit(\n",
    "    x_train, y_train,\n",
    "    epochs=20,\n",
    "    batch_size=128,\n",
    "    validation_data=(x_test, y_test),\n",
    "    callbacks=[checkpoint, early_stopping]\n",
    ")"
   ]
  },
  {
   "cell_type": "code",
   "execution_count": 47,
   "metadata": {
    "execution": {
     "iopub.execute_input": "2024-12-31T04:42:08.004202Z",
     "iopub.status.busy": "2024-12-31T04:42:08.003830Z",
     "iopub.status.idle": "2024-12-31T04:42:25.814886Z",
     "shell.execute_reply": "2024-12-31T04:42:25.814026Z",
     "shell.execute_reply.started": "2024-12-31T04:42:08.004174Z"
    },
    "trusted": true
   },
   "outputs": [
    {
     "name": "stdout",
     "output_type": "stream",
     "text": [
      "\u001b[1m305/305\u001b[0m \u001b[32m━━━━━━━━━━━━━━━━━━━━\u001b[0m\u001b[37m\u001b[0m \u001b[1m17s\u001b[0m 42ms/step - accuracy: 0.8788 - loss: 0.3874\n",
      "Accuracy of our model on test data :  87.83144950866699 %\n"
     ]
    },
    {
     "data": {
      "image/png": "[encoded data removed]",
      "text/plain": [
       "<Figure size 2000x600 with 2 Axes>"
      ]
     },
     "metadata": {},
     "output_type": "display_data"
    }
   ],
   "source": [
    "print(\"Accuracy of our model on test data : \" , model.evaluate(x_test,y_test)[1]*100 , \"%\")\n",
    "\n",
    "epochs = [i for i in range(20)]\n",
    "fig , ax = plt.subplots(1,2)\n",
    "train_acc = history.history['accuracy']\n",
    "train_loss = history.history['loss']\n",
    "test_acc = history.history['val_accuracy']\n",
    "test_loss = history.history['val_loss']\n",
    "\n",
    "fig.set_size_inches(20,6)\n",
    "ax[0].plot(epochs , train_loss , label = 'Training Loss')\n",
    "ax[0].plot(epochs , test_loss , label = 'Testing Loss')\n",
    "ax[0].set_title('Training & Testing Loss')\n",
    "ax[0].legend()\n",
    "ax[0].set_xlabel(\"Epochs\")\n",
    "\n",
    "ax[1].plot(epochs , train_acc , label = 'Training Accuracy')\n",
    "ax[1].plot(epochs , test_acc , label = 'Testing Accuracy')\n",
    "ax[1].set_title('Training & Testing Accuracy')\n",
    "ax[1].legend()\n",
    "ax[1].set_xlabel(\"Epochs\")\n",
    "plt.show()"
   ]
  },
  {
   "cell_type": "code",
   "execution_count": 48,
   "metadata": {
    "execution": {
     "iopub.execute_input": "2024-12-31T04:42:54.417464Z",
     "iopub.status.busy": "2024-12-31T04:42:54.417152Z",
     "iopub.status.idle": "2024-12-31T04:43:07.946160Z",
     "shell.execute_reply": "2024-12-31T04:43:07.945393Z",
     "shell.execute_reply.started": "2024-12-31T04:42:54.417439Z"
    },
    "trusted": true
   },
   "outputs": [
    {
     "name": "stdout",
     "output_type": "stream",
     "text": [
      "\u001b[1m305/305\u001b[0m \u001b[32m━━━━━━━━━━━━━━━━━━━━\u001b[0m\u001b[37m\u001b[0m \u001b[1m13s\u001b[0m 41ms/step\n"
     ]
    },
    {
     "data": {
      "text/html": [
       "<div>\n",
       "<style scoped>\n",
       "    .dataframe tbody tr th:only-of-type {\n",
       "        vertical-align: middle;\n",
       "    }\n",
       "\n",
       "    .dataframe tbody tr th {\n",
       "        vertical-align: top;\n",
       "    }\n",
       "\n",
       "    .dataframe thead th {\n",
       "        text-align: right;\n",
       "    }\n",
       "</style>\n",
       "<table border=\"1\" class=\"dataframe\">\n",
       "  <thead>\n",
       "    <tr style=\"text-align: right;\">\n",
       "      <th></th>\n",
       "      <th>Predicted Labels</th>\n",
       "      <th>Actual Labels</th>\n",
       "    </tr>\n",
       "  </thead>\n",
       "  <tbody>\n",
       "    <tr>\n",
       "      <th>0</th>\n",
       "      <td>surprise</td>\n",
       "      <td>angry</td>\n",
       "    </tr>\n",
       "    <tr>\n",
       "      <th>1</th>\n",
       "      <td>angry</td>\n",
       "      <td>angry</td>\n",
       "    </tr>\n",
       "    <tr>\n",
       "      <th>2</th>\n",
       "      <td>disgust</td>\n",
       "      <td>disgust</td>\n",
       "    </tr>\n",
       "    <tr>\n",
       "      <th>3</th>\n",
       "      <td>happy</td>\n",
       "      <td>happy</td>\n",
       "    </tr>\n",
       "    <tr>\n",
       "      <th>4</th>\n",
       "      <td>fear</td>\n",
       "      <td>fear</td>\n",
       "    </tr>\n",
       "    <tr>\n",
       "      <th>5</th>\n",
       "      <td>happy</td>\n",
       "      <td>happy</td>\n",
       "    </tr>\n",
       "    <tr>\n",
       "      <th>6</th>\n",
       "      <td>happy</td>\n",
       "      <td>happy</td>\n",
       "    </tr>\n",
       "    <tr>\n",
       "      <th>7</th>\n",
       "      <td>fear</td>\n",
       "      <td>fear</td>\n",
       "    </tr>\n",
       "    <tr>\n",
       "      <th>8</th>\n",
       "      <td>fear</td>\n",
       "      <td>fear</td>\n",
       "    </tr>\n",
       "    <tr>\n",
       "      <th>9</th>\n",
       "      <td>surprise</td>\n",
       "      <td>surprise</td>\n",
       "    </tr>\n",
       "  </tbody>\n",
       "</table>\n",
       "</div>"
      ],
      "text/plain": [
       "  Predicted Labels Actual Labels\n",
       "0         surprise         angry\n",
       "1            angry         angry\n",
       "2          disgust       disgust\n",
       "3            happy         happy\n",
       "4             fear          fear\n",
       "5            happy         happy\n",
       "6            happy         happy\n",
       "7             fear          fear\n",
       "8             fear          fear\n",
       "9         surprise      surprise"
      ]
     },
     "execution_count": 48,
     "metadata": {},
     "output_type": "execute_result"
    }
   ],
   "source": [
    "# Dự đoán trên tập test\n",
    "pred_test = model.predict(x_test)\n",
    "y_pred = encoder.inverse_transform(pred_test)\n",
    "y_test = encoder.inverse_transform(y_test)\n",
    "\n",
    "# Kiểm tra ngẫu nhiên dự đoán\n",
    "df0 = pd.DataFrame(columns=['Predicted Labels', 'Actual Labels'])\n",
    "df0['Predicted Labels'] = y_pred.flatten()\n",
    "df0['Actual Labels'] = y_test.flatten()\n",
    "\n",
    "df0.head(10)"
   ]
  },
  {
   "cell_type": "code",
   "execution_count": 49,
   "metadata": {
    "execution": {
     "iopub.execute_input": "2024-12-31T04:43:41.531339Z",
     "iopub.status.busy": "2024-12-31T04:43:41.530908Z",
     "iopub.status.idle": "2024-12-31T04:43:41.541246Z",
     "shell.execute_reply": "2024-12-31T04:43:41.540560Z",
     "shell.execute_reply.started": "2024-12-31T04:43:41.531302Z"
    },
    "trusted": true
   },
   "outputs": [
    {
     "data": {
      "text/html": [
       "<div>\n",
       "<style scoped>\n",
       "    .dataframe tbody tr th:only-of-type {\n",
       "        vertical-align: middle;\n",
       "    }\n",
       "\n",
       "    .dataframe tbody tr th {\n",
       "        vertical-align: top;\n",
       "    }\n",
       "\n",
       "    .dataframe thead th {\n",
       "        text-align: right;\n",
       "    }\n",
       "</style>\n",
       "<table border=\"1\" class=\"dataframe\">\n",
       "  <thead>\n",
       "    <tr style=\"text-align: right;\">\n",
       "      <th></th>\n",
       "      <th>Predicted Labels</th>\n",
       "      <th>Actual Labels</th>\n",
       "    </tr>\n",
       "  </thead>\n",
       "  <tbody>\n",
       "    <tr>\n",
       "      <th>0</th>\n",
       "      <td>surprise</td>\n",
       "      <td>angry</td>\n",
       "    </tr>\n",
       "    <tr>\n",
       "      <th>1</th>\n",
       "      <td>angry</td>\n",
       "      <td>angry</td>\n",
       "    </tr>\n",
       "    <tr>\n",
       "      <th>2</th>\n",
       "      <td>disgust</td>\n",
       "      <td>disgust</td>\n",
       "    </tr>\n",
       "    <tr>\n",
       "      <th>3</th>\n",
       "      <td>happy</td>\n",
       "      <td>happy</td>\n",
       "    </tr>\n",
       "    <tr>\n",
       "      <th>4</th>\n",
       "      <td>fear</td>\n",
       "      <td>fear</td>\n",
       "    </tr>\n",
       "    <tr>\n",
       "      <th>...</th>\n",
       "      <td>...</td>\n",
       "      <td>...</td>\n",
       "    </tr>\n",
       "    <tr>\n",
       "      <th>9725</th>\n",
       "      <td>fear</td>\n",
       "      <td>fear</td>\n",
       "    </tr>\n",
       "    <tr>\n",
       "      <th>9726</th>\n",
       "      <td>disgust</td>\n",
       "      <td>disgust</td>\n",
       "    </tr>\n",
       "    <tr>\n",
       "      <th>9727</th>\n",
       "      <td>neutral</td>\n",
       "      <td>neutral</td>\n",
       "    </tr>\n",
       "    <tr>\n",
       "      <th>9728</th>\n",
       "      <td>sad</td>\n",
       "      <td>sad</td>\n",
       "    </tr>\n",
       "    <tr>\n",
       "      <th>9729</th>\n",
       "      <td>happy</td>\n",
       "      <td>fear</td>\n",
       "    </tr>\n",
       "  </tbody>\n",
       "</table>\n",
       "<p>9730 rows × 2 columns</p>\n",
       "</div>"
      ],
      "text/plain": [
       "     Predicted Labels Actual Labels\n",
       "0            surprise         angry\n",
       "1               angry         angry\n",
       "2             disgust       disgust\n",
       "3               happy         happy\n",
       "4                fear          fear\n",
       "...               ...           ...\n",
       "9725             fear          fear\n",
       "9726          disgust       disgust\n",
       "9727          neutral       neutral\n",
       "9728              sad           sad\n",
       "9729            happy          fear\n",
       "\n",
       "[9730 rows x 2 columns]"
      ]
     },
     "execution_count": 49,
     "metadata": {},
     "output_type": "execute_result"
    }
   ],
   "source": [
    "df0"
   ]
  },
  {
   "cell_type": "markdown",
   "metadata": {
    "papermill": {
     "duration": 3.383851,
     "end_time": "2023-07-02T01:08:20.093267",
     "exception": false,
     "start_time": "2023-07-02T01:08:16.709416",
     "status": "completed"
    },
    "tags": []
   },
   "source": [
    "# Evalutation"
   ]
  },
  {
   "cell_type": "markdown",
   "metadata": {
    "papermill": {
     "duration": 3.291793,
     "end_time": "2023-07-02T01:08:26.678033",
     "exception": false,
     "start_time": "2023-07-02T01:08:23.386240",
     "status": "completed"
    },
    "tags": []
   },
   "source": [
    "Results of best model"
   ]
  },
  {
   "cell_type": "code",
   "execution_count": 50,
   "metadata": {
    "execution": {
     "iopub.execute_input": "2024-12-31T04:43:47.200354Z",
     "iopub.status.busy": "2024-12-31T04:43:47.200062Z",
     "iopub.status.idle": "2024-12-31T04:43:47.877551Z",
     "shell.execute_reply": "2024-12-31T04:43:47.876818Z",
     "shell.execute_reply.started": "2024-12-31T04:43:47.200333Z"
    },
    "papermill": {
     "duration": 4.720065,
     "end_time": "2023-07-02T01:08:34.746051",
     "exception": false,
     "start_time": "2023-07-02T01:08:30.025986",
     "status": "completed"
    },
    "tags": [],
    "trusted": true
   },
   "outputs": [
    {
     "data": {
      "image/png": "[encoded data removed]",
      "text/plain": [
       "<Figure size 1200x1000 with 2 Axes>"
      ]
     },
     "metadata": {},
     "output_type": "display_data"
    },
    {
     "name": "stdout",
     "output_type": "stream",
     "text": [
      "              precision    recall  f1-score   support\n",
      "\n",
      "       angry       0.82      0.92      0.87      1484\n",
      "     disgust       0.89      0.89      0.89      1558\n",
      "        fear       0.90      0.78      0.84      1505\n",
      "       happy       0.82      0.90      0.86      1619\n",
      "     neutral       0.96      0.87      0.91      1558\n",
      "         sad       0.92      0.90      0.91      1478\n",
      "    surprise       0.85      0.87      0.86       528\n",
      "\n",
      "    accuracy                           0.88      9730\n",
      "   macro avg       0.88      0.88      0.88      9730\n",
      "weighted avg       0.88      0.88      0.88      9730\n",
      "\n"
     ]
    }
   ],
   "source": [
    "from sklearn.metrics import confusion_matrix,classification_report\n",
    "cm = confusion_matrix(y_test, y_pred)\n",
    "plt.figure(figsize = (12, 10))\n",
    "cm = pd.DataFrame(cm , index = [i for i in encoder.categories_] , columns = [i for i in encoder.categories_])\n",
    "#cm = cm.astype('float') / cm.sum(axis=1)[:, np.newaxis]\n",
    "sns.heatmap(cm, linecolor='white', cmap='Blues', linewidth=1, annot=True, fmt='.2f')\n",
    "plt.title('Confusion Matrix', size=20)\n",
    "plt.xlabel('Predicted Labels', size=14)\n",
    "plt.ylabel('Actual Labels', size=14)\n",
    "plt.show()\n",
    "print(classification_report(y_test, y_pred))"
   ]
  },
  {
   "cell_type": "code",
   "execution_count": 51,
   "metadata": {
    "execution": {
     "iopub.execute_input": "2024-12-31T04:44:00.179755Z",
     "iopub.status.busy": "2024-12-31T04:44:00.179402Z",
     "iopub.status.idle": "2024-12-31T04:44:00.598298Z",
     "shell.execute_reply": "2024-12-31T04:44:00.597342Z",
     "shell.execute_reply.started": "2024-12-31T04:44:00.179725Z"
    },
    "trusted": true
   },
   "outputs": [
    {
     "data": {
      "image/png": "[encoded data removed]",
      "text/plain": [
       "<Figure size 1200x1000 with 2 Axes>"
      ]
     },
     "metadata": {},
     "output_type": "display_data"
    }
   ],
   "source": [
    "cm = confusion_matrix(y_test, y_pred)\n",
    "cm_df = pd.DataFrame(cm, index=[i for i in encoder.categories_], columns=[i for i in encoder.categories_])\n",
    "\n",
    "# Compute the correlation matrix\n",
    "correlation_matrix = cm_df.corr()\n",
    "\n",
    "# Plot the correlation matrix\n",
    "plt.figure(figsize=(12, 10))\n",
    "sns.heatmap(correlation_matrix, annot=True, cmap='coolwarm', linewidths=0.5, linecolor='white')\n",
    "plt.title('Correlation Matrix', size=20)\n",
    "plt.xlabel('Predicted Labels', size=14)\n",
    "plt.ylabel('Actual Labels', size=14)\n",
    "plt.show()"
   ]
  },
  {
   "cell_type": "markdown",
   "metadata": {
    "papermill": {
     "duration": 3.350496,
     "end_time": "2023-07-02T01:08:41.423335",
     "exception": false,
     "start_time": "2023-07-02T01:08:38.072839",
     "status": "completed"
    },
    "tags": []
   },
   "source": [
    "# Saving Best Model"
   ]
  },
  {
   "cell_type": "code",
   "execution_count": 52,
   "metadata": {
    "execution": {
     "iopub.execute_input": "2024-12-31T04:44:17.962405Z",
     "iopub.status.busy": "2024-12-31T04:44:17.962095Z",
     "iopub.status.idle": "2024-12-31T04:44:23.012887Z",
     "shell.execute_reply": "2024-12-31T04:44:23.011953Z",
     "shell.execute_reply.started": "2024-12-31T04:44:17.962380Z"
    },
    "papermill": {
     "duration": 3.433255,
     "end_time": "2023-07-02T01:08:48.180589",
     "exception": false,
     "start_time": "2023-07-02T01:08:44.747334",
     "status": "completed"
    },
    "tags": [],
    "trusted": true
   },
   "outputs": [
    {
     "name": "stdout",
     "output_type": "stream",
     "text": [
      "Saved model to disk\n"
     ]
    }
   ],
   "source": [
    "from tensorflow.keras.models import Sequential, model_from_json\n",
    "\n",
    "# Serialize model to JSON\n",
    "model_json = model.to_json()\n",
    "with open(\"VGG_model.json\", \"w\") as json_file:\n",
    "    json_file.write(model_json)\n",
    "\n",
    "# Serialize weights to HDF5\n",
    "model.save_weights(\"VGG_model.weights.h5\")\n",
    "print(\"Saved model to disk\")"
   ]
  }
 ],
 "metadata": {
  "kaggle": {
   "accelerator": "gpu",
   "dataSources": [
    {
     "datasetId": 316368,
     "sourceId": 639622,
     "sourceType": "datasetVersion"
    },
    {
     "datasetId": 325566,
     "sourceId": 653195,
     "sourceType": "datasetVersion"
    },
    {
     "datasetId": 338555,
     "sourceId": 671851,
     "sourceType": "datasetVersion"
    },
    {
     "datasetId": 6392521,
     "sourceId": 10324618,
     "sourceType": "datasetVersion"
    },
    {
     "datasetId": 6393232,
     "sourceId": 10325599,
     "sourceType": "datasetVersion"
    }
   ],
   "dockerImageVersionId": 30823,
   "isGpuEnabled": true,
   "isInternetEnabled": true,
   "language": "python",
   "sourceType": "notebook"
  },
  "kernelspec": {
   "display_name": "Python 3",
   "language": "python",
   "name": "python3"
  },
  "language_info": {
   "codemirror_mode": {
    "name": "ipython",
    "version": 3
   },
   "file_extension": ".py",
   "mimetype": "text/x-python",
   "name": "python",
   "nbconvert_exporter": "python",
   "pygments_lexer": "ipython3",
   "version": "3.10.12"
  },
  "papermill": {
   "default_parameters": {},
   "duration": 11598.328512,
   "end_time": "2023-07-02T01:11:20.401611",
   "environment_variables": {},
   "exception": null,
   "input_path": "__notebook__.ipynb",
   "output_path": "__notebook__.ipynb",
   "parameters": {},
   "start_time": "2023-07-01T21:58:02.073099",
   "version": "2.3.4"
  }
 },
 "nbformat": 4,
 "nbformat_minor": 4
}
